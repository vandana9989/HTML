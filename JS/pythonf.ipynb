{
 "cells": [
  {
   "cell_type": "code",
   "execution_count": 1,
   "metadata": {},
   "outputs": [
    {
     "name": "stdout",
     "output_type": "stream",
     "text": [
      "hello world........\n"
     ]
    }
   ],
   "source": [
    "print('hello world........')\n",
    "\n",
    "\n"
   ]
  },
  {
   "cell_type": "code",
   "execution_count": 2,
   "metadata": {},
   "outputs": [
    {
     "name": "stdout",
     "output_type": "stream",
     "text": [
      "30\n"
     ]
    }
   ],
   "source": [
    "a = 10 \n",
    "b = 20 \n",
    "print(a+b)"
   ]
  },
  {
   "cell_type": "code",
   "execution_count": 4,
   "metadata": {},
   "outputs": [
    {
     "name": "stdout",
     "output_type": "stream",
     "text": [
      "2550\n"
     ]
    }
   ],
   "source": [
    "add = 0\n",
    "for i in range(1,101):\n",
    "    if(i%2 == 0):\n",
    "        add+=i\n",
    "print(add)"
   ]
  },
  {
   "cell_type": "code",
   "execution_count": 6,
   "metadata": {},
   "outputs": [
    {
     "name": "stdout",
     "output_type": "stream",
     "text": [
      "15 * 1  = 15\n",
      "15 * 2  = 30\n",
      "15 * 3  = 45\n",
      "15 * 4  = 60\n",
      "15 * 5  = 75\n",
      "15 * 6  = 90\n",
      "15 * 7  = 105\n",
      "15 * 8  = 120\n",
      "15 * 9  = 135\n",
      "15 * 10  = 150\n"
     ]
    }
   ],
   "source": [
    "num = 15\n",
    "for i in range(1,11):\n",
    "    print(f'{num} * {i}  = {num*i}')"
   ]
  },
  {
   "cell_type": "code",
   "execution_count": null,
   "metadata": {},
   "outputs": [],
   "source": []
  }
 ],
 "metadata": {
  "kernelspec": {
   "display_name": "Python 3",
   "language": "python",
   "name": "python3"
  },
  "language_info": {
   "codemirror_mode": {
    "name": "ipython",
    "version": 3
   },
   "file_extension": ".py",
   "mimetype": "text/x-python",
   "name": "python",
   "nbconvert_exporter": "python",
   "pygments_lexer": "ipython3",
   "version": "3.11.2"
  },
  "orig_nbformat": 4,
  "vscode": {
   "interpreter": {
    "hash": "7e5c0badbb2d24bbc3f94f0128230c51073dab69f6205fe8338cbe6039d785c3"
   }
  }
 },
 "nbformat": 4,
 "nbformat_minor": 2
}
