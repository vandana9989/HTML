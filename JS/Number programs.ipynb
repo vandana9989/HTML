{
 "cells": [
  {
   "cell_type": "code",
   "execution_count": 5,
   "metadata": {},
   "outputs": [
    {
     "name": "stdout",
     "output_type": "stream",
     "text": [
      "PRIME NUMBER\n",
      "PRIME NUMBER\n"
     ]
    }
   ],
   "source": [
    "''' prime number program\n",
    "a whole number greater than 1 that cannot be exactly divided by any whole number other than itself and 1'''\n",
    "\n",
    "num = 11\n",
    "count = 0 \n",
    "for i in range(1,num+1):\n",
    "    if(num%i==0):\n",
    "        count+=1\n",
    "if(count==2):\n",
    "    print('PRIME NUMBER')\n",
    "else:\n",
    "    print('NOT PRIME NUMBER')\n",
    "\n",
    "\n",
    "num = 17\n",
    "if(num>1):\n",
    "    for i in range(2,num//2+1):\n",
    "        if(num%i==0):\n",
    "            print('NOT PRIME NUMBER')\n",
    "            break\n",
    "    else:\n",
    "        print('PRIME NUMBER')\n",
    "else:\n",
    "    print('NOT PRIME NUMBER')\n",
    "\n",
    "\n"
   ]
  },
  {
   "cell_type": "code",
   "execution_count": 8,
   "metadata": {},
   "outputs": [
    {
     "name": "stdout",
     "output_type": "stream",
     "text": [
      "COMPOSITE NUMBER\n"
     ]
    }
   ],
   "source": [
    "''' Composite number program \n",
    " composite numbers can be defined as numbers that have more than two factors.'''\n",
    "\n",
    "num = 12 \n",
    "count = 0\n",
    "for i in range(1,num+1):\n",
    "    if(num%i==0):\n",
    "       count+=1\n",
    "if(count>2):\n",
    "   print('COMPOSITE NUMBER')\n",
    "else:\n",
    "   print('NOT COMPOSITE NUMBER')\n",
    " \n"
   ]
  },
  {
   "cell_type": "code",
   "execution_count": 11,
   "metadata": {},
   "outputs": [
    {
     "name": "stdout",
     "output_type": "stream",
     "text": [
      "PERFECT NUMBER\n"
     ]
    }
   ],
   "source": [
    "'''Perfect number program\n",
    "perfect number, a positive integer that is equal to the sum of its proper divisors.'''\n",
    "\n",
    "num = 6\n",
    "add = 0 \n",
    "for i in range(1,num//2+1):\n",
    "    if(num%i==0):\n",
    "        add+=i\n",
    "if(num==add):\n",
    "    print('PERFECT NUMBER')\n",
    "else:\n",
    "    print('NOT PERFECT NUMBER')"
   ]
  },
  {
   "cell_type": "code",
   "execution_count": 28,
   "metadata": {},
   "outputs": [
    {
     "name": "stdout",
     "output_type": "stream",
     "text": [
      "AUTOMORPHIC NUMBER\n",
      "AUTOMORPHIC NUMBER \n"
     ]
    }
   ],
   "source": [
    "''' Automorphic number program \n",
    " A number is called an Automorphic number if and only if \n",
    " its square ends in the same digits as the number itself.\n",
    "'''\n",
    "\n",
    "num = 6\n",
    "sqr = num*num \n",
    "if(sqr%10==num):\n",
    "    print('AUTOMORPHIC NUMBER')\n",
    "else:\n",
    "    print('NOT AUTOMORPHIC NUMBER')\n",
    "\n",
    "\n",
    "num = 6\n",
    "sqr = num*num \n",
    "while(num!=0):\n",
    "    rem1 = num%10\n",
    "    rem2 = sqr%10\n",
    "    num //= 10\n",
    "    sqr //= 10\n",
    "    if(rem1 != rem2):\n",
    "        print('NOT AUTOMORPHIC')\n",
    "    else:\n",
    "        print('AUTOMORPHIC NUMBER ')"
   ]
  },
  {
   "cell_type": "markdown",
   "metadata": {},
   "source": []
  },
  {
   "cell_type": "code",
   "execution_count": 29,
   "metadata": {},
   "outputs": [
    {
     "name": "stdout",
     "output_type": "stream",
     "text": [
      "15\n"
     ]
    }
   ],
   "source": [
    "'''To find sum of digitd in a given number'''\n",
    "num = 1815\n",
    "add = 0 \n",
    "while (num!=0):\n",
    "    rem = num%10\n",
    "    add += rem \n",
    "    num //=10\n",
    "print(add)"
   ]
  },
  {
   "cell_type": "code",
   "execution_count": 31,
   "metadata": {},
   "outputs": [
    {
     "name": "stdout",
     "output_type": "stream",
     "text": [
      "NIVEN NUMBER\n"
     ]
    }
   ],
   "source": [
    "'''Niven number program\n",
    "If a number is divisible by sum of its digits then it is a niven number'''\n",
    "\n",
    "num = 1815\n",
    "add = 0 \n",
    "copy = num\n",
    "while(num!=0):\n",
    "    rem = num%10\n",
    "    add += rem\n",
    "    num //=10\n",
    "if(copy%add == 0):\n",
    "    print('NIVEN NUMBER')\n",
    "else:\n",
    "    print('NOT NIVEN NUMBER')\n"
   ]
  },
  {
   "cell_type": "code",
   "execution_count": 32,
   "metadata": {},
   "outputs": [
    {
     "name": "stdout",
     "output_type": "stream",
     "text": [
      "ARMSTRONG NUMBER \n"
     ]
    }
   ],
   "source": [
    "''' Armstrong number program \n",
    "If each of its digits is raised  to the power of the number of digits in the number is same as given number\n",
    "is ARMSTRONG NUMBER'''\n",
    "\n",
    "num = 153 \n",
    "copy = num \n",
    "add = 0 \n",
    "count = len(str(num))\n",
    "while (num!=0):\n",
    "    rem = num%10\n",
    "    add += rem**count\n",
    "    num //=10\n",
    "if(copy == add ):\n",
    "    print('ARMSTRONG NUMBER ')\n",
    "else:\n",
    "    print('NOT ARMSTRONG NUMBER')"
   ]
  },
  {
   "cell_type": "code",
   "execution_count": 2,
   "metadata": {},
   "outputs": [
    {
     "name": "stdout",
     "output_type": "stream",
     "text": [
      "DISARIUM NUMBER\n"
     ]
    }
   ],
   "source": [
    "'''Disarium number program \n",
    "If sum of its digits powered with their respective positions is equal to the number then its Disarium number'''\n",
    "\n",
    "num = 135 \n",
    "copy = num\n",
    "add = 0 \n",
    "count = len(str(num))\n",
    "while(num!=0):\n",
    "    rem = num%10\n",
    "    add += rem**count \n",
    "    count-=1\n",
    "    num //= 10\n",
    "if(copy == add):\n",
    "    print('DISARIUM NUMBER')\n",
    "else:\n",
    "    print('NOT DISARIUM NUMBER')"
   ]
  },
  {
   "cell_type": "code",
   "execution_count": 37,
   "metadata": {},
   "outputs": [
    {
     "name": "stdout",
     "output_type": "stream",
     "text": [
      "SPY NUMBER \n"
     ]
    }
   ],
   "source": [
    "'''Spy number \n",
    "the addition and nultiplication of number of its digits is equal then its a spy number '''\n",
    "\n",
    "num = 123 \n",
    "add = 0 \n",
    "mul = 1\n",
    "while(num!=0):\n",
    "    rem = num%10\n",
    "    add += rem \n",
    "    mul *= rem \n",
    "    num //= 10\n",
    "if (add == mul):\n",
    "    print('SPY NUMBER ')\n",
    "else:\n",
    "    print('NOT SPY NUMBER')"
   ]
  },
  {
   "cell_type": "code",
   "execution_count": 39,
   "metadata": {},
   "outputs": [
    {
     "name": "stdout",
     "output_type": "stream",
     "text": [
      "HAPPY NUMBER\n"
     ]
    }
   ],
   "source": [
    "'''Happy number\n",
    " number (positive integer) is called a happy number when it is replaced by the sum of the squares \n",
    " of its digits on a repeated basis until the sum of the squares of its digits equals to 1. \n",
    " The numbers for which the process of summing up of the squares of its digits ends in 1 are happy numbers.'''\n",
    "\n",
    "num = 19\n",
    "add = 0 \n",
    "while (num>9):\n",
    "    rem =num%10\n",
    "    add += rem**2\n",
    "    num //= 10 \n",
    "add = num\n",
    "if(add == 1):\n",
    "    print('HAPPY NUMBER')\n",
    "else:\n",
    "    print('NOT HAPPY NUMBER')\n",
    " "
   ]
  },
  {
   "cell_type": "code",
   "execution_count": 17,
   "metadata": {},
   "outputs": [
    {
     "name": "stdout",
     "output_type": "stream",
     "text": [
      "SUNNY NUMBER\n",
      "SUNNY NUMBER\n"
     ]
    }
   ],
   "source": [
    "'''Sunny number program\n",
    "A number is said to be a Sunny number, \n",
    "if the square root of the next value of input number is a perfect square of any number.'''\n",
    "num = 143\n",
    "add = num+1\n",
    "res =  int(add**(1/2))\n",
    "if(res**2==add):\n",
    "    print('SUNNY NUMBER')\n",
    "else:\n",
    "    print('NOT SUNNY NUMBER')\n",
    "\n",
    "\n",
    "num = 24\n",
    "add = num+1\n",
    "i = 1\n",
    "while True:\n",
    "    if i**2==add:\n",
    "        print('SUNNY NUMBER')\n",
    "        break\n",
    "    else:\n",
    "        if(i**2>add):\n",
    "            print('NOT SUNNY NUMBER')\n",
    "            break\n",
    "        i+=1"
   ]
  },
  {
   "cell_type": "code",
   "execution_count": null,
   "metadata": {},
   "outputs": [],
   "source": [
    "'''Neon number\n",
    "A neon number is a number where the sum of digits of square of the number is equal to the number'''"
   ]
  },
  {
   "cell_type": "code",
   "execution_count": 20,
   "metadata": {},
   "outputs": [
    {
     "name": "stdout",
     "output_type": "stream",
     "text": [
      "NOT NEON NUMBER\n"
     ]
    }
   ],
   "source": [
    "num = 9\n",
    "sqr =num*num\n",
    "add = 0\n",
    "while(sqr!=0):\n",
    "    rem = sqr%10\n",
    "    add += rem\n",
    "    sqr //=10\n",
    "if(add == num):\n",
    "    print('NEON NUMBER')\n",
    "else:\n",
    "    print('NOT NEON NUMBER')\n",
    "\n",
    "\n"
   ]
  },
  {
   "cell_type": "code",
   "execution_count": 29,
   "metadata": {},
   "outputs": [
    {
     "name": "stdout",
     "output_type": "stream",
     "text": [
      "3628800\n"
     ]
    }
   ],
   "source": [
    "'''Factorial number\n",
    "Factorial of a positive integer (number) is the sum of multiplication \n",
    "of all the integers smaller than that positive integer'''\n",
    "\n",
    "num = 10 \n",
    "fact =1\n",
    "for i in range(1,num+1):\n",
    "    fact = fact*i\n",
    "print(fact)\n"
   ]
  },
  {
   "cell_type": "code",
   "execution_count": 34,
   "metadata": {},
   "outputs": [
    {
     "name": "stdout",
     "output_type": "stream",
     "text": [
      "STRONG NUMBER\n"
     ]
    }
   ],
   "source": [
    "'''Strong number OR Special number\n",
    " Strong number is a number whose sum of all digits' factorial is equal to the number 'n'\n",
    "'''\n",
    "\n",
    "num = 145\n",
    "copy = num \n",
    "add = 0 \n",
    "while(num!=0):\n",
    "    rem = num%10\n",
    "    fact = 1\n",
    "    for i in range(1,rem+1):\n",
    "        fact *= i\n",
    "    add += fact\n",
    "    num //= 10\n",
    "if(copy == add):\n",
    "    print('STRONG NUMBER')\n",
    "else:\n",
    "    print('NOT STRONG NUMBER')\n",
    "    "
   ]
  },
  {
   "cell_type": "code",
   "execution_count": 43,
   "metadata": {},
   "outputs": [
    {
     "name": "stdout",
     "output_type": "stream",
     "text": [
      "FASCINATING NUMBER\n"
     ]
    }
   ],
   "source": [
    "'''Fascinating Number\n",
    "Fascinating number can be defined as a number which when multiplied with 2 and 3, and then the products \n",
    "after being concatenated with the number itself contains all the digits from 1 to 9.'''\n",
    "\n",
    "num = 192\n",
    "num1 = num*2\n",
    "num2 = num*3\n",
    "S =str(num)+str(num1)+str(num2)\n",
    "for i in range(1,10):\n",
    "    if str(i) not in S:\n",
    "        print('NOT FASCINATING NUMBER')\n",
    "        break\n",
    "else:\n",
    "    print('FASCINATING NUMBER')"
   ]
  },
  {
   "cell_type": "code",
   "execution_count": 57,
   "metadata": {},
   "outputs": [
    {
     "name": "stdout",
     "output_type": "stream",
     "text": [
      "TRIMORPHIC NUMBER\n",
      "TRIMORPHIC NUMBER\n"
     ]
    }
   ],
   "source": [
    "'''Trimorphic Number \n",
    " A number is called Trimorphic number if and only if its cube ends in the same \n",
    " digits as the number itselfnum'''\n",
    "num = 24\n",
    "cube = num**3\n",
    "if(num == cube%100):\n",
    "    print('TRIMORPHIC NUMBER')\n",
    "else:\n",
    "    print('NOT TRIMORPHIC NUMBER')\n",
    "\n",
    "num = 5\n",
    "cube = num**3\n",
    "while(num!=0):\n",
    "    rem1 = num%10\n",
    "    rem2 = cube%10\n",
    "    num //= 10\n",
    "    cube //= 10\n",
    "if(rem1 != rem2):\n",
    "    print('NOT TRIMORPHIC NUMBER')\n",
    "else:\n",
    "    print('TRIMORPHIC NUMBER')"
   ]
  },
  {
   "cell_type": "code",
   "execution_count": 74,
   "metadata": {},
   "outputs": [
    {
     "name": "stdout",
     "output_type": "stream",
     "text": [
      " PRONIC NUMBER\n"
     ]
    }
   ],
   "source": [
    "''' Pronic Number \n",
    "Pronic number can be defined as a number when it is a product of two consecutive integers.\n",
    " Mathematically, the Pronic number is in the form of n(n+1)'''\n",
    "num = 12\n",
    "i = 1\n",
    "while(i*(i+1)<=num):\n",
    "    if(i*(i+1)== num):\n",
    "        print(' PRONIC NUMBER')\n",
    "        break\n",
    "    i+=1\n",
    "else:\n",
    "    print(' NOT PRONIC NUMBER')"
   ]
  },
  {
   "cell_type": "code",
   "execution_count": 82,
   "metadata": {},
   "outputs": [
    {
     "name": "stdout",
     "output_type": "stream",
     "text": [
      "10001\n"
     ]
    }
   ],
   "source": [
    "'''Decimal to binary conversion'''\n",
    "num = 17\n",
    "add = 0\n",
    "temp = 1\n",
    "while(num != 0):\n",
    "    rem = num%2\n",
    "    add += rem*temp\n",
    "    num //= 2\n",
    "    temp *= 10\n",
    "print(add)"
   ]
  },
  {
   "cell_type": "code",
   "execution_count": null,
   "metadata": {},
   "outputs": [],
   "source": []
  },
  {
   "cell_type": "code",
   "execution_count": 83,
   "metadata": {},
   "outputs": [
    {
     "name": "stdout",
     "output_type": "stream",
     "text": [
      "17\n"
     ]
    }
   ],
   "source": [
    "''' Binary to Decimal conversion'''\n",
    "bin = 10001\n",
    "add = 0\n",
    "temp = 1\n",
    "while(bin!=0):\n",
    "    rem = bin%10\n",
    "    add += rem*temp\n",
    "    bin //= 10\n",
    "    temp *= 2\n",
    "print(add)"
   ]
  },
  {
   "cell_type": "code",
   "execution_count": 5,
   "metadata": {},
   "outputs": [
    {
     "name": "stdout",
     "output_type": "stream",
     "text": [
      "EVIL NUMBER\n"
     ]
    }
   ],
   "source": [
    "''' Evil Number \n",
    "A non-negative integer is called evil if the number of \n",
    "ones in its binary expansion is even and it is called odious otherwise'''\n",
    "\n",
    "num = 17\n",
    "add = 0 \n",
    "while(num!=0):\n",
    "    if(num%2==1):\n",
    "        add+=1\n",
    "    num //= 2\n",
    "if(add%2==0):\n",
    "    print('EVIL NUMBER')\n",
    "else:\n",
    "    print( ' NOT EVIL NUMBER ')"
   ]
  },
  {
   "cell_type": "code",
   "execution_count": 10,
   "metadata": {},
   "outputs": [
    {
     "name": "stdout",
     "output_type": "stream",
     "text": [
      "54321\n"
     ]
    }
   ],
   "source": [
    "# reverse of given number\n",
    "n = 12345 \n",
    "rev = 0 \n",
    "while(n!=0):\n",
    "    rem = n%10\n",
    "    n //= 10\n",
    "    rev = rev*10+rem\n",
    "print(rev)\n"
   ]
  },
  {
   "cell_type": "code",
   "execution_count": 14,
   "metadata": {},
   "outputs": [
    {
     "name": "stdout",
     "output_type": "stream",
     "text": [
      "PALINDOME NUMBER\n"
     ]
    }
   ],
   "source": [
    "# Check given number is palindrome or not \n",
    "n = 123454321\n",
    "copy = n \n",
    "rev = 0 \n",
    "while(n!=0):\n",
    "    rem = n%10\n",
    "    n //= 10\n",
    "    rev = rev*10+rem\n",
    "if(copy == rev):\n",
    "    print('PALINDOME NUMBER')\n",
    "else:\n",
    "    print('NOT PALINDOME NUMBER')"
   ]
  },
  {
   "cell_type": "code",
   "execution_count": 18,
   "metadata": {},
   "outputs": [
    {
     "name": "stdout",
     "output_type": "stream",
     "text": [
      "EMIRP NUMBER\n"
     ]
    }
   ],
   "source": [
    "''' EMIRP Number\n",
    "An Emirp is a prime number whose reversal is also a prime.number should not be palindrome'''\n",
    "\n",
    "num = 17\n",
    "copy = num \n",
    "add = 0 \n",
    "while(num!=0):\n",
    "    rem = num%10\n",
    "    add = add*10+rem \n",
    "    num //= 10\n",
    "if(copy != add):\n",
    "    for i in range(2,copy//2+1):\n",
    "        if(copy%i==0):\n",
    "            print('NOT EMIRP')\n",
    "            break\n",
    "    else:\n",
    "        for j in range(2,add//2+1):\n",
    "            if(add%j==0):\n",
    "                print('NOT EMIRP')\n",
    "                break\n",
    "        else:\n",
    "            print('EMIRP NUMBER')\n",
    "else:\n",
    "    print('NOT EMIRP')"
   ]
  },
  {
   "cell_type": "code",
   "execution_count": 23,
   "metadata": {},
   "outputs": [
    {
     "name": "stdout",
     "output_type": "stream",
     "text": [
      "PALY PRIME\n"
     ]
    }
   ],
   "source": [
    "'''Paly Prime\n",
    "The number should be palindrome and number should be prime  '''\n",
    "num = 5\n",
    "copy = num \n",
    "rev = 0 \n",
    "while(num!=0):\n",
    "    rem = num%10\n",
    "    rev = rev*10+rem \n",
    "    num //= 10 \n",
    "if(copy == rev and copy>1):\n",
    "    for i in range(2,copy//2+1):\n",
    "        if(copy%i==0):\n",
    "            print('NOT PALYPRIME')\n",
    "            break\n",
    "    else:\n",
    "        print('PALY PRIME')\n",
    "else:\n",
    "    print('NOT PALYPRIME')\n"
   ]
  },
  {
   "cell_type": "code",
   "execution_count": 1,
   "metadata": {},
   "outputs": [
    {
     "name": "stdout",
     "output_type": "stream",
     "text": [
      "* * * * * \n",
      "* * * * * \n",
      "* * * * * \n",
      "* * * * * \n",
      "* * * * * \n"
     ]
    }
   ],
   "source": [
    "n = 5\n",
    "for i in range(1,n+1):\n",
    "    for j in range(1,n+1):\n",
    "        print('*',end=' ')\n",
    "    print()"
   ]
  },
  {
   "cell_type": "code",
   "execution_count": 3,
   "metadata": {},
   "outputs": [
    {
     "name": "stdout",
     "output_type": "stream",
     "text": [
      "1 10\n",
      "2 9\n",
      "3 8\n",
      "4 7\n",
      "5 6\n",
      "6 5\n",
      "7 4\n",
      "8 3\n",
      "9 2\n",
      "10 1\n"
     ]
    }
   ],
   "source": [
    "n = 10 \n",
    "for i in range(1,n+1):\n",
    "    print('{} {}'.format((i),(n-i+1)))"
   ]
  },
  {
   "cell_type": "code",
   "execution_count": 10,
   "metadata": {},
   "outputs": [
    {
     "name": "stdout",
     "output_type": "stream",
     "text": [
      "1       5 \n",
      "  2   4   \n",
      "    3     \n",
      "  2   4   \n",
      "1       5 \n"
     ]
    }
   ],
   "source": [
    "n = 5 \n",
    "for i in range(1,n+1):\n",
    "    for j in range(1,n+1):\n",
    "        if i==j or i+j==n+1:\n",
    "            print(j,end=' ')\n",
    "        else:\n",
    "            print(' ',end=' ')\n",
    "    print()"
   ]
  },
  {
   "cell_type": "code",
   "execution_count": 9,
   "metadata": {},
   "outputs": [
    {
     "name": "stdout",
     "output_type": "stream",
     "text": [
      "1       5 \n",
      "  2   4   \n",
      "    3     \n",
      "  2   4   \n",
      "1       5 \n"
     ]
    }
   ],
   "source": [
    "n = 5 \n",
    "for i in range(1,n+1):\n",
    "    for j in range(1,n+1):\n",
    "        if i==j:\n",
    "            print(j,end=' ')\n",
    "        elif i+j==n+1:\n",
    "            print(j,end=' ')\n",
    "        else:\n",
    "            print(' ',end=' ')\n",
    "    print()"
   ]
  },
  {
   "cell_type": "code",
   "execution_count": 11,
   "metadata": {},
   "outputs": [
    {
     "name": "stdout",
     "output_type": "stream",
     "text": [
      "1 2 3 4 5 6 7 \n",
      "1 2       6 7 \n",
      "1   3   5   7 \n",
      "1     4     7 \n",
      "1   3   5   7 \n",
      "1 2       6 7 \n",
      "1 2 3 4 5 6 7 \n"
     ]
    }
   ],
   "source": [
    "n = 7\n",
    "for i in range(1,n+1):\n",
    "    for j in range(1,n+1):\n",
    "        if i==1 or j==n or i==n or j==1 or i==j or i+j==n+1:\n",
    "            print(j,end=' ')\n",
    "        else:\n",
    "            print(' ',end=' ')\n",
    "    print()"
   ]
  },
  {
   "cell_type": "code",
   "execution_count": 13,
   "metadata": {},
   "outputs": [
    {
     "name": "stdout",
     "output_type": "stream",
     "text": [
      "1 1 1 1 1 \n",
      "2 2 2 2 2 \n",
      "3 3 3 3 3 \n",
      "4 4 4 4 4 \n",
      "5 5 5 5 5 \n"
     ]
    }
   ],
   "source": [
    "n = 5\n",
    "for i in range(1,n+1):\n",
    "    for j in range(1,n+1):\n",
    "        print(i,end=' ')\n",
    "    print()"
   ]
  },
  {
   "cell_type": "code",
   "execution_count": 14,
   "metadata": {},
   "outputs": [
    {
     "name": "stdout",
     "output_type": "stream",
     "text": [
      "1 2 3 4 5 \n",
      "1 2 3 4 5 \n",
      "1 2 3 4 5 \n",
      "1 2 3 4 5 \n",
      "1 2 3 4 5 \n"
     ]
    }
   ],
   "source": [
    "n = 5 \n",
    "for i in range(1,n+1):\n",
    "    for j in range(1,n+1):\n",
    "        print(j,end=' ')\n",
    "    print()"
   ]
  },
  {
   "cell_type": "code",
   "execution_count": 15,
   "metadata": {},
   "outputs": [
    {
     "name": "stdout",
     "output_type": "stream",
     "text": [
      "5 4 3 2 1 \n",
      "5 4 3 2 1 \n",
      "5 4 3 2 1 \n",
      "5 4 3 2 1 \n",
      "5 4 3 2 1 \n"
     ]
    }
   ],
   "source": [
    "n = 5 \n",
    "for i in range(1,n+1):\n",
    "    for j in range(5,0,-1):\n",
    "        print(j,end=' ')\n",
    "    print()"
   ]
  },
  {
   "cell_type": "code",
   "execution_count": 16,
   "metadata": {},
   "outputs": [
    {
     "name": "stdout",
     "output_type": "stream",
     "text": [
      "5 4 3 2 1 \n",
      "5 4 3 2 1 \n",
      "5 4 3 2 1 \n",
      "5 4 3 2 1 \n",
      "5 4 3 2 1 \n"
     ]
    }
   ],
   "source": [
    "n = 5 \n",
    "for i in range(1,n+1):\n",
    "    num = n\n",
    "    for j in range(5,0,-1):\n",
    "        print(num,end=' ')\n",
    "        num-=1\n",
    "    print()"
   ]
  },
  {
   "cell_type": "code",
   "execution_count": 17,
   "metadata": {},
   "outputs": [
    {
     "name": "stdout",
     "output_type": "stream",
     "text": [
      "1 \n",
      "2 2 \n",
      "3 3 3 \n",
      "4 4 4 4 \n",
      "5 5 5 5 5 \n"
     ]
    }
   ],
   "source": [
    "n = 5 \n",
    "for i in range(1,n+1):\n",
    "    for j in range(i):\n",
    "        print(i,end=' ')\n",
    "    print()"
   ]
  },
  {
   "cell_type": "code",
   "execution_count": 20,
   "metadata": {},
   "outputs": [
    {
     "name": "stdout",
     "output_type": "stream",
     "text": [
      "1 \n",
      "1 2 \n",
      "1 2 3 \n",
      "1 2 3 4 \n",
      "1 2 3 4 5 \n"
     ]
    }
   ],
   "source": [
    "n = 5 \n",
    "for i in range(1,n+1):\n",
    "    num = 1\n",
    "    for j in range(i):\n",
    "        print(num,end=' ')\n",
    "        num+=1\n",
    "    print()"
   ]
  },
  {
   "cell_type": "code",
   "execution_count": 24,
   "metadata": {},
   "outputs": [
    {
     "name": "stdout",
     "output_type": "stream",
     "text": [
      "1 \n",
      "2 2 \n",
      "3 3 3 \n",
      "4 4 4 4 \n",
      "5 5 5 5 5 \n"
     ]
    }
   ],
   "source": [
    "n = 5 \n",
    "for i in range(1,n+1):\n",
    "    for j in range(1,i+1):\n",
    "        print(i,end=' ')\n",
    "    print()"
   ]
  },
  {
   "cell_type": "code",
   "execution_count": 25,
   "metadata": {},
   "outputs": [
    {
     "name": "stdout",
     "output_type": "stream",
     "text": [
      "5 \n",
      "5 4 \n",
      "5 4 3 \n",
      "5 4 3 2 \n",
      "5 4 3 2 1 \n"
     ]
    }
   ],
   "source": [
    "n = 5 \n",
    "for i in range(1,n+1):\n",
    "    num = n \n",
    "    for j in range(i):\n",
    "        print(num,end=' ')\n",
    "        num-=1\n",
    "    print()"
   ]
  },
  {
   "cell_type": "code",
   "execution_count": 27,
   "metadata": {},
   "outputs": [
    {
     "name": "stdout",
     "output_type": "stream",
     "text": [
      "5 \n",
      "5 4 \n",
      "5 4 3 \n",
      "5 4 3 2 \n",
      "5 4 3 2 1 \n"
     ]
    }
   ],
   "source": [
    "n = 5 \n",
    "for i in range(1,n+1):\n",
    "    for j in range(n,n-i,-1):\n",
    "        print(j,end=' ')\n",
    "    print()"
   ]
  },
  {
   "cell_type": "code",
   "execution_count": 44,
   "metadata": {},
   "outputs": [
    {
     "name": "stdout",
     "output_type": "stream",
     "text": [
      "    1 \n",
      "   1 2 \n",
      "  1 2 3 \n",
      " 1 2 3 4 \n",
      "1 2 3 4 5 \n"
     ]
    }
   ],
   "source": [
    "n = 5 \n",
    "for i in range(1,n+1):\n",
    "    print(' '*(n-i),end='')\n",
    "    num= 1\n",
    "    for j in range(i):\n",
    "        print(num,end=' ')\n",
    "        num+=1\n",
    "    print()"
   ]
  },
  {
   "cell_type": "code",
   "execution_count": 47,
   "metadata": {},
   "outputs": [
    {
     "name": "stdout",
     "output_type": "stream",
     "text": [
      "    1 \n",
      "   1 2 \n",
      "  1 2 3 \n",
      " 1 2 3 4 \n",
      "1 2 3 4 5 \n"
     ]
    }
   ],
   "source": [
    "n = 5 \n",
    "for i in range(1,n+1):\n",
    "    print(' '*(n-i),end='')\n",
    "    for j in range(1,i+1):\n",
    "        print(j,end=' ')\n",
    "    print()"
   ]
  },
  {
   "cell_type": "code",
   "execution_count": 49,
   "metadata": {},
   "outputs": [
    {
     "name": "stdout",
     "output_type": "stream",
     "text": [
      "12345\n",
      " 1234\n",
      "  123\n",
      "   12\n",
      "    1\n"
     ]
    }
   ],
   "source": [
    "n = 5 \n",
    "for i in range(1,n+1):\n",
    "    print(' '*(i-1),end='')\n",
    "    for j in range(1,n-i+2):\n",
    "        print(j,end='')\n",
    "    print()"
   ]
  },
  {
   "cell_type": "code",
   "execution_count": 50,
   "metadata": {},
   "outputs": [
    {
     "name": "stdout",
     "output_type": "stream",
     "text": [
      " 1 2 3 4 5 \n",
      "  1 2 3 4 \n",
      "   1 2 3 \n",
      "    1 2 \n",
      "     1 \n"
     ]
    }
   ],
   "source": [
    "n = 5 \n",
    "for i in range(1,n+1):\n",
    "    print(' '*(i-1),end=' ')\n",
    "    num=1\n",
    "    for j in range(1,n-i+2):\n",
    "        print(num,end=' ')\n",
    "        num+=1\n",
    "    print()"
   ]
  },
  {
   "cell_type": "code",
   "execution_count": 52,
   "metadata": {},
   "outputs": [
    {
     "name": "stdout",
     "output_type": "stream",
     "text": [
      " 5 4 3 2 1 \n",
      "  5 4 3 2 \n",
      "   5 4 3 \n",
      "    5 4 \n",
      "     5 \n"
     ]
    }
   ],
   "source": [
    "n = 5 \n",
    "for i in range(1,n+1):\n",
    "    print(' '*(i-1),end=' ')\n",
    "    for j in range(5,i-1,-1):\n",
    "        print(j,end=' ')\n",
    "    print()"
   ]
  },
  {
   "cell_type": "code",
   "execution_count": 61,
   "metadata": {},
   "outputs": [
    {
     "name": "stdout",
     "output_type": "stream",
     "text": [
      " 5 4 3 2 1 \n",
      "  4 3 2 1 \n",
      "   3 2 1 \n",
      "    2 1 \n",
      "     1 \n"
     ]
    }
   ],
   "source": [
    "n = 5 \n",
    "for i in range(1,n+1):\n",
    "    print(' '*(i-1),end=' ')\n",
    "    num = n-i+1 \n",
    "    for j in range(5,i-1,-1):\n",
    "        print(num,end=' ')\n",
    "        num-=1\n",
    "    print() "
   ]
  },
  {
   "cell_type": "code",
   "execution_count": 54,
   "metadata": {},
   "outputs": [
    {
     "name": "stdout",
     "output_type": "stream",
     "text": [
      " 5 4 3 2 1 \n",
      "  4 3 2 1 \n",
      "   3 2 1 \n",
      "    2 1 \n",
      "     1 \n"
     ]
    }
   ],
   "source": [
    "n = 5 \n",
    "for i in range(1,n+1):\n",
    "    print(' '*(i-1),end=' ')\n",
    "    for j in range(n-i+1,0,-1):\n",
    "        print(j,end=' ')\n",
    "    print()"
   ]
  },
  {
   "cell_type": "code",
   "execution_count": 59,
   "metadata": {},
   "outputs": [
    {
     "name": "stdout",
     "output_type": "stream",
     "text": [
      " 5 4 3 2 1 \n",
      "  5 4 3 2 \n",
      "   5 4 3 \n",
      "    5 4 \n",
      "     5 \n"
     ]
    }
   ],
   "source": [
    "n = 5 \n",
    "for i in range(1,n+1):\n",
    "    print(' '*(i-1),end=' ')\n",
    "    num = n \n",
    "    for j in range(n-i+1,0,-1):\n",
    "        print(num,end=' ')\n",
    "        num-=1\n",
    "    print()\n"
   ]
  },
  {
   "cell_type": "markdown",
   "metadata": {},
   "source": []
  },
  {
   "cell_type": "code",
   "execution_count": 60,
   "metadata": {},
   "outputs": [
    {
     "name": "stdout",
     "output_type": "stream",
     "text": [
      " 1 2 3 4 5 \n",
      "  2 3 4 5 \n",
      "   3 4 5 \n",
      "    4 5 \n",
      "     5 \n"
     ]
    }
   ],
   "source": [
    "n = 5 \n",
    "for i in range(1,n+1):\n",
    "    print(' '*(i-1),end=' ')\n",
    "    for j in range(i,n+1):\n",
    "        print(j,end=' ')\n",
    "    print()"
   ]
  },
  {
   "cell_type": "code",
   "execution_count": 63,
   "metadata": {},
   "outputs": [
    {
     "name": "stdout",
     "output_type": "stream",
     "text": [
      " 1 2 3 4 5 \n",
      "  2 3 4 5 \n",
      "   3 4 5 \n",
      "    4 5 \n",
      "     5 \n"
     ]
    }
   ],
   "source": [
    "n = 5 \n",
    "for i in range(1,n+1):\n",
    "    print(' '*(i-1),end=' ')\n",
    "    num = i\n",
    "    for j in range(i,n+1):\n",
    "        print(num,end=' ')\n",
    "        num+=1\n",
    "    print()"
   ]
  },
  {
   "cell_type": "code",
   "execution_count": 64,
   "metadata": {},
   "outputs": [
    {
     "name": "stdout",
     "output_type": "stream",
     "text": [
      " 5 4 3 2 1 \n",
      "  5 4 3 2 \n",
      "   5 4 3 \n",
      "    5 4 \n",
      "     5 \n"
     ]
    }
   ],
   "source": [
    "n = 5 \n",
    "for i in range(1,n+1):\n",
    "    print(' '*(i-1),end=' ')\n",
    "    for j in range(5,i-1,-1):\n",
    "        print(j,end=' ')\n",
    "    print()"
   ]
  },
  {
   "cell_type": "code",
   "execution_count": 65,
   "metadata": {},
   "outputs": [
    {
     "name": "stdout",
     "output_type": "stream",
     "text": [
      " 5 4 3 2 1 \n",
      "  5 4 3 2 \n",
      "   5 4 3 \n",
      "    5 4 \n",
      "     5 \n"
     ]
    }
   ],
   "source": [
    "n = 5 \n",
    "for i in range(1,n+1):\n",
    "    print(' '*(i-1),end=' ')\n",
    "    num = 5 \n",
    "    for j in range(5,i-1,-1):\n",
    "        print(num,end=' ')\n",
    "        num-=1\n",
    "    print()"
   ]
  },
  {
   "cell_type": "code",
   "execution_count": 4,
   "metadata": {},
   "outputs": [
    {
     "name": "stdout",
     "output_type": "stream",
     "text": [
      "E\n",
      "DE\n",
      "CDE\n",
      "BCDE\n",
      "ABCDE\n"
     ]
    }
   ],
   "source": [
    "s = 'ABCDE'\n",
    "for i in range(len(s)-1,-1,-1):\n",
    "    print(s[i:len(s)])"
   ]
  },
  {
   "cell_type": "code",
   "execution_count": 23,
   "metadata": {},
   "outputs": [
    {
     "name": "stdout",
     "output_type": "stream",
     "text": [
      "8\n",
      "7\n",
      "2\n"
     ]
    }
   ],
   "source": [
    "n = 27845\n",
    "count = 0\n",
    "while(n!=0):\n",
    "    rem = n%10\n",
    "    if(rem>1):\n",
    "        for i in range(2,rem//2+1):\n",
    "            if(rem%i==0):\n",
    "                count = count+1\n",
    "                break\n",
    "        if(count==2):\n",
    "            print(rem)\n",
    "        n//=10"
   ]
  },
  {
   "cell_type": "code",
   "execution_count": 5,
   "metadata": {},
   "outputs": [
    {
     "name": "stdout",
     "output_type": "stream",
     "text": [
      "1 2 3 4 \n",
      "5 6 7 8 \n",
      "9 10 11 12 \n",
      "13 14 15 16 \n"
     ]
    }
   ],
   "source": [
    "n = 4\n",
    "num = 1 \n",
    "for i in range(n):\n",
    "    for j in range(n):\n",
    "        print(num,end=' ')\n",
    "        num+=1\n",
    "    print()"
   ]
  },
  {
   "cell_type": "code",
   "execution_count": 8,
   "metadata": {},
   "outputs": [
    {
     "name": "stdout",
     "output_type": "stream",
     "text": [
      "1 \n",
      "2 3 \n",
      "4 5 6 \n",
      "7 8 9 10 \n"
     ]
    }
   ],
   "source": [
    "n = 4\n",
    "num = 1 \n",
    "for i in range(1,n+1):\n",
    "    for j in range(i):\n",
    "        print(num,end=' ')\n",
    "        num+=1\n",
    "    print()"
   ]
  },
  {
   "cell_type": "code",
   "execution_count": 9,
   "metadata": {},
   "outputs": [
    {
     "name": "stdout",
     "output_type": "stream",
     "text": [
      "1 \n",
      "4 9 \n",
      "16 25 36 \n",
      "49 64 81 100 \n"
     ]
    }
   ],
   "source": [
    "n = 4\n",
    "num = 1 \n",
    "for i in range(1,n+1):\n",
    "    for j in range(i):\n",
    "        print(num*num,end=' ')\n",
    "        num+=1\n",
    "    print()"
   ]
  },
  {
   "cell_type": "code",
   "execution_count": 18,
   "metadata": {},
   "outputs": [
    {
     "name": "stdout",
     "output_type": "stream",
     "text": [
      "   *\n",
      "  ***\n",
      " *****\n",
      "*******\n",
      " *****\n",
      "  ***\n",
      "   *\n"
     ]
    }
   ],
   "source": [
    "n = 7 \n",
    "for i in range(1,n+1):\n",
    "    if(i<=n//2+1):\n",
    "        print('{}{}{}'.format(' '*((n//2+1)-i),'*'*i,'*'*(i-1)))\n",
    "    else:\n",
    "        print('{}{}{}'.format(' '*(i-(n//2+1)),'*'*(n-i+1),'*'*(n-i)))\n",
    "\n"
   ]
  },
  {
   "cell_type": "code",
   "execution_count": 21,
   "metadata": {},
   "outputs": [
    {
     "name": "stdout",
     "output_type": "stream",
     "text": [
      "* \n",
      "* * \n",
      "* * * \n",
      "* * * * \n",
      "* * * * * \n"
     ]
    }
   ],
   "source": [
    "n = 5 \n",
    "for i in range(1,n+1):\n",
    "    print('* '*i)"
   ]
  },
  {
   "cell_type": "code",
   "execution_count": 23,
   "metadata": {},
   "outputs": [
    {
     "name": "stdout",
     "output_type": "stream",
     "text": [
      "* * * * * \n",
      "* * * * \n",
      "* * * \n",
      "* * \n",
      "* \n"
     ]
    }
   ],
   "source": [
    "n = 5 \n",
    "for i in range(5,0,-1):\n",
    "    print('* '*i)\n",
    "    "
   ]
  },
  {
   "cell_type": "code",
   "execution_count": 28,
   "metadata": {},
   "outputs": [
    {
     "name": "stdout",
     "output_type": "stream",
     "text": [
      "* \n",
      "* * \n",
      "* * * \n",
      "* * * * \n",
      "* * * * * \n"
     ]
    }
   ],
   "source": [
    "n = 5 \n",
    "for i in range(1,n+1):\n",
    "    print('{}{}'.format(''*(n-i),'* '*i))"
   ]
  },
  {
   "cell_type": "code",
   "execution_count": 33,
   "metadata": {},
   "outputs": [
    {
     "name": "stdout",
     "output_type": "stream",
     "text": [
      "* * * * * \n",
      "* * * * \n",
      "* * * \n",
      "* * \n",
      "* \n"
     ]
    }
   ],
   "source": [
    "n = 5 \n",
    "for i in range(1,n+1):\n",
    "    print('{}{}'.format('* '*(n-i+1),''*(i-1)))"
   ]
  },
  {
   "cell_type": "code",
   "execution_count": 38,
   "metadata": {},
   "outputs": [
    {
     "name": "stdout",
     "output_type": "stream",
     "text": [
      "        * \n",
      "      * * * \n",
      "    * * * * * \n",
      "  * * * * * * * \n",
      "* * * * * * * * * \n"
     ]
    }
   ],
   "source": [
    "n = 5 \n",
    "for i in range(1,n+1):\n",
    "    print('{}{}'.format('  '*(n-i),'* '*(i+i-1)))"
   ]
  },
  {
   "cell_type": "code",
   "execution_count": 42,
   "metadata": {},
   "outputs": [
    {
     "name": "stdout",
     "output_type": "stream",
     "text": [
      "* * * * * * * * * \n",
      "  * * * * * * * \n",
      "    * * * * * \n",
      "      * * * \n",
      "        * \n"
     ]
    }
   ],
   "source": [
    "n = 5 \n",
    "for i in range(1,n+1):\n",
    "    print('{}{}'.format('  '*(i-1),'* '*(2*(n-i)+1)))"
   ]
  },
  {
   "cell_type": "code",
   "execution_count": 59,
   "metadata": {},
   "outputs": [
    {
     "name": "stdout",
     "output_type": "stream",
     "text": [
      "*                   * \n",
      "* *               * * \n",
      "* * *           * * * \n",
      "* * * *       * * * * \n",
      "* \n"
     ]
    }
   ],
   "source": [
    "n = 5\n",
    "for i in range(1,n+1): \n",
    "    if(i==n):\n",
    "        print('* '*(2*(n-i)+1))\n",
    "    else:\n",
    "        print('{}{}{}'.format('* '*i,'  '*(2*(n-i)+1),'* '*i))\n"
   ]
  },
  {
   "cell_type": "code",
   "execution_count": 52,
   "metadata": {},
   "outputs": [
    {
     "name": "stdout",
     "output_type": "stream",
     "text": [
      "* * * * * * * * * \n",
      "* * * *   * * * * \n",
      "* * *       * * * \n",
      "* *           * * \n",
      "*               * \n"
     ]
    }
   ],
   "source": [
    "n = 5 \n",
    "for i in range(1,n+1):\n",
    "    if(i==1):\n",
    "        print('* '*(2*(n-i)+1))\n",
    "    else:\n",
    "        print('{}{}{}'.format('* '*(n-i+1),'  '*(2*(i-2)+1),'* '*(n-i+1)))"
   ]
  },
  {
   "cell_type": "code",
   "execution_count": 67,
   "metadata": {},
   "outputs": [
    {
     "name": "stdout",
     "output_type": "stream",
     "text": [
      "* \n",
      "* * \n",
      "* * * \n",
      "* * \n",
      "* \n"
     ]
    }
   ],
   "source": [
    "n = 5 \n",
    "for i in range(1,n+1):\n",
    "    if(i<=n//2+1):\n",
    "        print('* '*i)\n",
    "    else:\n",
    "        print('* '*(n-i+1))"
   ]
  },
  {
   "cell_type": "code",
   "execution_count": 71,
   "metadata": {},
   "outputs": [
    {
     "name": "stdout",
     "output_type": "stream",
     "text": [
      "* \n",
      "* * \n",
      "* * * \n",
      "* * \n",
      "* \n"
     ]
    }
   ],
   "source": [
    "n = 5 \n",
    "for i in range(1,n+1):\n",
    "    if(i<=n//2+1):\n",
    "        print('* '*i)\n",
    "    else:\n",
    "        print('* '*(n-i+1))"
   ]
  },
  {
   "cell_type": "code",
   "execution_count": 1,
   "metadata": {},
   "outputs": [
    {
     "name": "stdout",
     "output_type": "stream",
     "text": [
      "*  * \n",
      "* *  * * \n",
      "*  *  *  *  *  \n",
      "* * * *  * * * * \n",
      "* * * * *  * * * * * \n"
     ]
    }
   ],
   "source": [
    "n = 5 \n",
    "for i in range(1,n+1):\n",
    "    if(i==3):\n",
    "        print('*  '*n)\n",
    "    else:\n",
    "        print('{} {}'.format('* '*i,'* '*i))\n"
   ]
  },
  {
   "cell_type": "code",
   "execution_count": 1,
   "metadata": {},
   "outputs": [
    {
     "name": "stdout",
     "output_type": "stream",
     "text": [
      "* * * * * \n",
      "# # # # # \n",
      "* * * * * \n",
      "# # # # # \n",
      "* * * * * \n"
     ]
    }
   ],
   "source": [
    "n = 5 \n",
    "for i in range(n):\n",
    "    for j in range(n):\n",
    "        if i%2==0:\n",
    "            print('*',end=' ')\n",
    "        else:\n",
    "            print('#',end=' ')\n",
    "    print()"
   ]
  },
  {
   "cell_type": "code",
   "execution_count": 1,
   "metadata": {},
   "outputs": [
    {
     "name": "stdout",
     "output_type": "stream",
     "text": [
      "@ * * * @ \n",
      "* @ * @ * \n",
      "* * @ * * \n",
      "* @ * @ * \n",
      "@ * * * @ \n"
     ]
    }
   ],
   "source": [
    "n = 5\n",
    "for i in range(n):\n",
    "    for j in range(n):\n",
    "        if i==j or i+j==n-1:\n",
    "            print('@',end=' ')\n",
    "        else:\n",
    "            print('*',end=' ')\n",
    "    print()"
   ]
  },
  {
   "cell_type": "code",
   "execution_count": 14,
   "metadata": {},
   "outputs": [
    {
     "name": "stdout",
     "output_type": "stream",
     "text": [
      "        1 \n",
      "      1 2 3 \n",
      "    1 2 3 4 5 \n",
      "  1 2 3 4 5 6 7 \n",
      "1 2 3 4 5 6 7 8 9 \n"
     ]
    }
   ],
   "source": [
    "n = 5\n",
    "num = 1 \n",
    "for i in range(1,n+1):\n",
    "    for j in range(n-i):\n",
    "        print(' ',end=' ')\n",
    "    for k in range(i+i-1):\n",
    "        print(num,end = ' ')\n",
    "        num+=1\n",
    "    print()\n",
    "    num = 1\n"
   ]
  },
  {
   "cell_type": "code",
   "execution_count": 15,
   "metadata": {},
   "outputs": [
    {
     "name": "stdout",
     "output_type": "stream",
     "text": [
      "        A \n",
      "      A B C \n",
      "    A B C D E \n",
      "  A B C D E F G \n",
      "A B C D E F G H I \n"
     ]
    }
   ],
   "source": [
    "n = 5\n",
    "num = 1 \n",
    "for i in range(1,n+1):\n",
    "    for j in range(n-i):\n",
    "        print(' ',end=' ')\n",
    "    for k in range(i+i-1):\n",
    "        print(chr(64+num),end = ' ')\n",
    "        num+=1\n",
    "    print()\n",
    "    num = 1"
   ]
  },
  {
   "cell_type": "code",
   "execution_count": 19,
   "metadata": {},
   "outputs": [
    {
     "name": "stdout",
     "output_type": "stream",
     "text": [
      "    A \n",
      "    A B C \n",
      "    A B C D E \n",
      "    A B C D E F G \n",
      "    A B C D E F G H I \n"
     ]
    }
   ],
   "source": [
    "n = 5 \n",
    "for i in range(1,n+1):\n",
    "    for j in range(n//2):\n",
    "        print(' ',end=' ')\n",
    "    for k in range(i+i-1):\n",
    "        print(chr(64+num),end=' ')\n",
    "        num+=1\n",
    "    print()\n",
    "    num=1"
   ]
  },
  {
   "cell_type": "code",
   "execution_count": 24,
   "metadata": {},
   "outputs": [
    {
     "name": "stdout",
     "output_type": "stream",
     "text": [
      "       1 \n",
      "     1 2 1 \n",
      "   1 2 3 2 1 \n",
      " 1 2 3 4 3 2 1 \n",
      "   1 2 3 2 1 \n",
      "     1 2 1 \n",
      "       1 \n"
     ]
    }
   ],
   "source": [
    "n = 7\n",
    "for i in range(1,n+1):\n",
    "    num = 1\n",
    "    if(i<=n//2+1):\n",
    "        print('  '*((n//2+1)-i),end=' ')\n",
    "        for j in range(i):\n",
    "            print(num,end=' ')\n",
    "            num+=1\n",
    "        num -=2\n",
    "        for k in range(i-1):\n",
    "            print(num,end=' ')\n",
    "            num-=1\n",
    "        print()\n",
    "    else:\n",
    "        print('  ' * (i-(n//2+1)), end=' ')\n",
    "        for j in range(n-i+1):\n",
    "            print(num, end=' ')\n",
    "            num+= 1\n",
    "        num-=2\n",
    "        for k in range(n-i):\n",
    "            print(num, end=' ')\n",
    "            num -= 1\n",
    "        print()\n"
   ]
  },
  {
   "cell_type": "code",
   "execution_count": 34,
   "metadata": {},
   "outputs": [
    {
     "name": "stdout",
     "output_type": "stream",
     "text": [
      "       1 \n",
      "     2 1 2 \n",
      "   3 2 1 2 3 \n",
      " 4 3 2 1 2 3 4 \n",
      "   3 2 1 2 3 \n",
      "     2 1 2 \n",
      "       1 \n"
     ]
    }
   ],
   "source": [
    "n = 7 \n",
    "for i in range(1,n+1):\n",
    "    num = i\n",
    "    if(i<=n//2+1):\n",
    "        print('  '*((n//2+1)-i),end=' ')\n",
    "        for j in range(i):\n",
    "            print(num,end=' ')\n",
    "            num-=1\n",
    "        num+=2\n",
    "        for k in range(i-1):\n",
    "            print(num,end=' ')\n",
    "            num+=1\n",
    "        print()\n",
    "    else:\n",
    "        print('  '*(i-(n//2+1)),end=' ')\n",
    "        num=(n-i+1)\n",
    "        for j in range(n-i+1):\n",
    "            print(num,end=' ')\n",
    "            num-=1\n",
    "        num+=2\n",
    "        for k in range(n-i):\n",
    "            print(num,end=' ')\n",
    "            num+=1\n",
    "        print()"
   ]
  },
  {
   "cell_type": "code",
   "execution_count": 42,
   "metadata": {},
   "outputs": [
    {
     "name": "stdout",
     "output_type": "stream",
     "text": [
      "       1 \n",
      "     3 2 1 \n",
      "   5 4 3 2 1 \n",
      " 7 6 5 4 3 2 1 \n",
      "   5 4 3 2 1 \n",
      "     3 2 1 \n",
      "       1 \n"
     ]
    }
   ],
   "source": [
    "n = 7 \n",
    "for i in range(1,n+1):\n",
    "    num=i+i-1\n",
    "    if(i<=n//2+1):\n",
    "        print('  '*((n//2+1)-i),end=' ')\n",
    "        for j in range(i):\n",
    "            print(num,end= ' ')\n",
    "            num-=1\n",
    "        for j in range(i-1):\n",
    "            print(num,end=' ')\n",
    "            num-=1\n",
    "        print()\n",
    "    else:\n",
    "        print('  '*(i-(n//2+1)),end=' ')\n",
    "        num=n-i+1+n-i\n",
    "        for j in range(n-i+1):\n",
    "            print(num,end=' ')\n",
    "            num-=1\n",
    "        for k in range(n-i):\n",
    "            print(num,end=' ')\n",
    "            num-=1\n",
    "        print()\n"
   ]
  },
  {
   "cell_type": "code",
   "execution_count": 45,
   "metadata": {},
   "outputs": [
    {
     "name": "stdout",
     "output_type": "stream",
     "text": [
      "       1 \n",
      "     1 2 3 \n",
      "   1 2 3 4 5 \n",
      " 1 2 3 4 5 6 7 \n",
      "   1 2 3 4 5 \n",
      "     1 2 3 \n",
      "       1 \n"
     ]
    }
   ],
   "source": [
    "n = 7\n",
    "for i in range(1,n+1):\n",
    "    num = 1\n",
    "    if(i<=n//2+1):\n",
    "        print('  '*((n//2+1)-i),end=' ')\n",
    "        for j in range(i):\n",
    "            print(num,end=' ')\n",
    "            num+=1\n",
    "        for k in range(i-1):\n",
    "            print(num,end=' ')\n",
    "            num+=1\n",
    "        print()\n",
    "    else:\n",
    "        print('  '*(i-(n//2+1)),end=' ')\n",
    "        for j in range(n-i+1):\n",
    "            print(num,end=' ')\n",
    "            num+=1\n",
    "        for k in range(n-i):\n",
    "            print(num,end=' ')\n",
    "            num+=1\n",
    "        print()"
   ]
  },
  {
   "cell_type": "code",
   "execution_count": 65,
   "metadata": {},
   "outputs": [
    {
     "name": "stdout",
     "output_type": "stream",
     "text": [
      "* * * * * \n",
      "*       * \n",
      "* * * * * \n",
      "*       * \n",
      "*       * \n"
     ]
    }
   ],
   "source": [
    "n = 5\n",
    "for i in range(1,n+1):\n",
    "    for j in range(1,n+1):\n",
    "        if(i==1 or j==1 or i==3 or j==5 ):\n",
    "            print('*',end=' ')\n",
    "        else:\n",
    "            print(' ',end=' ')\n",
    "    print()"
   ]
  },
  {
   "cell_type": "code",
   "execution_count": 68,
   "metadata": {},
   "outputs": [
    {
     "name": "stdout",
     "output_type": "stream",
     "text": [
      "* * * * * \n",
      "*       * \n",
      "* * * * * \n",
      "*       * \n",
      "* * * * * \n"
     ]
    }
   ],
   "source": [
    "n = 5 \n",
    "for i in range(1,n+1):\n",
    "    for j in range(1,n+1):\n",
    "        if(j==1 or i==1 or i==5 or i==3 or j==5):\n",
    "            print('*',end=' ')\n",
    "        else:\n",
    "            print(' ',end=' ')\n",
    "    print()\n"
   ]
  },
  {
   "cell_type": "code",
   "execution_count": 69,
   "metadata": {},
   "outputs": [
    {
     "name": "stdout",
     "output_type": "stream",
     "text": [
      "* * * * * \n",
      "*         \n",
      "*         \n",
      "*         \n",
      "* * * * * \n"
     ]
    }
   ],
   "source": [
    "n = 5 \n",
    "for i in range(1,n+1):\n",
    "    for j in range(1,n+1):\n",
    "        if(i==1 or j ==1 or i==5):\n",
    "            print('*',end=' ')\n",
    "        else:\n",
    "            print(' ',end=' ')\n",
    "    print()"
   ]
  },
  {
   "cell_type": "code",
   "execution_count": 1,
   "metadata": {},
   "outputs": [
    {
     "name": "stdout",
     "output_type": "stream",
     "text": [
      "* * * * * \n",
      "*       * \n",
      "*       * \n",
      "*       * \n",
      "* * * * * \n"
     ]
    }
   ],
   "source": [
    "n = 5 \n",
    "for i in range(1,n+1):\n",
    "    for j in range(1,n+1):\n",
    "        if(i==1 or j==1 or j ==n or i==5):\n",
    "            print('*',end=' ')\n",
    "        else:\n",
    "            print(' ',end=' ')\n",
    "    print()"
   ]
  },
  {
   "cell_type": "code",
   "execution_count": 3,
   "metadata": {},
   "outputs": [
    {
     "name": "stdout",
     "output_type": "stream",
     "text": [
      "* * * * * \n",
      "*         \n",
      "* * * * * \n",
      "*         \n",
      "* * * * * \n"
     ]
    }
   ],
   "source": [
    "n = 5 \n",
    "for i in range(1,n+1):\n",
    "    for j in range(1,n+1):\n",
    "        if(i==1 or j==1 or i==5 or i==3):\n",
    "            print('*',end=' ')\n",
    "        else:\n",
    "            print(' ',end=' ')\n",
    "    print()"
   ]
  },
  {
   "cell_type": "code",
   "execution_count": 4,
   "metadata": {},
   "outputs": [
    {
     "name": "stdout",
     "output_type": "stream",
     "text": [
      "* * * * * \n",
      "*         \n",
      "* * * * * \n",
      "*         \n",
      "*         \n"
     ]
    }
   ],
   "source": [
    "n = 5 \n",
    "for i in range(1,n+1):\n",
    "    for j in range(1,n+1):\n",
    "        if(i==1 or j==1 or i==3):\n",
    "            print('*',end=' ')\n",
    "        else:\n",
    "            print(' ',end=' ')\n",
    "    print()"
   ]
  },
  {
   "cell_type": "code",
   "execution_count": 11,
   "metadata": {},
   "outputs": [
    {
     "name": "stdout",
     "output_type": "stream",
     "text": [
      "* * * * * \n",
      "*         \n",
      "* * * * * \n",
      "*         \n",
      "* * * * * \n"
     ]
    }
   ],
   "source": [
    "n = 5 \n",
    "for i in range(1,n+1):\n",
    "    for j in range(1,n+1):\n",
    "        if(i==1 or j==1 or i==5 or i==3 ):\n",
    "            print('*',end=' ')\n",
    "        else:\n",
    "            print(' ',end=' ')\n",
    "    print()"
   ]
  },
  {
   "cell_type": "code",
   "execution_count": 12,
   "metadata": {},
   "outputs": [
    {
     "name": "stdout",
     "output_type": "stream",
     "text": [
      "*       * \n",
      "*       * \n",
      "* * * * * \n",
      "*       * \n",
      "*       * \n"
     ]
    }
   ],
   "source": [
    "n = 5 \n",
    "for i in range(1,n+1):\n",
    "    for j in range(1,n+1):\n",
    "        if(j==1 or j==5 or i==3):\n",
    "            print('*',end=' ')\n",
    "        else:\n",
    "            print(' ',end=' ')\n",
    "    print()"
   ]
  },
  {
   "cell_type": "code",
   "execution_count": 14,
   "metadata": {},
   "outputs": [
    {
     "name": "stdout",
     "output_type": "stream",
     "text": [
      "* * * * * \n",
      "    *     \n",
      "    *     \n",
      "    *     \n",
      "* * * * * \n"
     ]
    }
   ],
   "source": [
    "n = 5 \n",
    "for i in range(1,n+1):\n",
    "    for j in range(1,n+1):\n",
    "        if(i==1 or i==5 or j==3):\n",
    "            print('*',end=' ')\n",
    "        else:\n",
    "            print(' ',end=' ')\n",
    "    print()"
   ]
  },
  {
   "cell_type": "code",
   "execution_count": 16,
   "metadata": {},
   "outputs": [
    {
     "name": "stdout",
     "output_type": "stream",
     "text": [
      "*         \n",
      "*         \n",
      "*         \n",
      "*         \n",
      "* * * * * \n"
     ]
    }
   ],
   "source": [
    "n = 5 \n",
    "for i in range(1,n+1):\n",
    "    for j in range(1,n+1):\n",
    "        if(j==1 or i==5):\n",
    "            print('*',end=' ')\n",
    "        else:\n",
    "            print(' ',end=' ')\n",
    "    print()"
   ]
  },
  {
   "cell_type": "code",
   "execution_count": 17,
   "metadata": {},
   "outputs": [
    {
     "name": "stdout",
     "output_type": "stream",
     "text": [
      "*       * \n",
      "*     * * \n",
      "*   *   * \n",
      "* *     * \n",
      "*       * \n"
     ]
    }
   ],
   "source": [
    "n = 5 \n",
    "for i in range(1,n+1):\n",
    "    for j in range(1,n+1):\n",
    "        if(j==1 or j==5 or i+j==6<=3 or i+j==6>=3):\n",
    "            print('*',end=' ')\n",
    "        else:\n",
    "            print(' ',end=' ')\n",
    "    print()"
   ]
  },
  {
   "cell_type": "code",
   "execution_count": 4,
   "metadata": {},
   "outputs": [
    {
     "name": "stdout",
     "output_type": "stream",
     "text": [
      "  * * *   \n",
      "*       * \n",
      "*       * \n",
      "* * * * * \n",
      "*       * \n",
      "*       * \n",
      "*       * \n"
     ]
    }
   ],
   "source": [
    "for r in range(7):\n",
    "    for c in range(5):\n",
    "        if((c==0 or c==4) and (r!=0)) or (r==0 or r==3 )and (c!=0 and c!=4) :\n",
    "            print('*',end=' ')\n",
    "        else:\n",
    "            print(' ',end=' ')\n",
    "    print()"
   ]
  },
  {
   "cell_type": "code",
   "execution_count": 15,
   "metadata": {},
   "outputs": [
    {
     "name": "stdout",
     "output_type": "stream",
     "text": [
      "* * * *   \n",
      "*       * \n",
      "*       * \n",
      "* * * *   \n",
      "*       * \n",
      "*       * \n",
      "* * * *   \n"
     ]
    }
   ],
   "source": [
    "for r in range(7):\n",
    "    for c in range(5):\n",
    "        if((c==0) or (c==4 and (r!=0 and r!=3 and r!=6))) or ((r==0 or r==3 or r==6 ) and (c>0 and c<4)):\n",
    "            print('*',end=' ')\n",
    "        else:\n",
    "            print(' ',end=' ')\n",
    "    print()"
   ]
  },
  {
   "cell_type": "code",
   "execution_count": 25,
   "metadata": {},
   "outputs": [
    {
     "name": "stdout",
     "output_type": "stream",
     "text": [
      "  * * * * \n",
      "*         \n",
      "*         \n",
      "*         \n",
      "*         \n",
      "*         \n",
      "  * * * * \n"
     ]
    }
   ],
   "source": [
    "for r in range(7):\n",
    "    for c in range(5):\n",
    "        if ((c==0) and (r!=0 and r!=6)) or ((r==0 or r==6) and (c>0)) :\n",
    "            print('*',end=' ')\n",
    "        else:\n",
    "            print(' ',end=' ')\n",
    "    print()"
   ]
  },
  {
   "cell_type": "code",
   "execution_count": 34,
   "metadata": {},
   "outputs": [
    {
     "name": "stdout",
     "output_type": "stream",
     "text": [
      "* * * *   \n",
      "*       * \n",
      "*       * \n",
      "*       * \n",
      "*       * \n",
      "*       * \n",
      "* * * *   \n"
     ]
    }
   ],
   "source": [
    "for r in range(7):\n",
    "    for c in range(5):\n",
    "        if((c==0) or (c==4 and (r!=0 and r!=6)) or ((r==0 or r==6) and (c!=0 and c!=4))):\n",
    "            print('*',end=' ')\n",
    "        else:\n",
    "            print(' ',end=' ')\n",
    "    print()"
   ]
  },
  {
   "cell_type": "code",
   "execution_count": 41,
   "metadata": {},
   "outputs": [
    {
     "name": "stdout",
     "output_type": "stream",
     "text": [
      "* * * * * \n",
      "*         \n",
      "*         \n",
      "*     * * \n",
      "*       * \n",
      "*       * \n",
      "* * * * * \n"
     ]
    }
   ],
   "source": [
    "for r in range(7):\n",
    "    for c in range(5):\n",
    "        if(c==0) or ((r==0 or r==6) and (c!=5)) or ((c==4) and (r>=3)) or ((r==3) and (c>=3)):\n",
    "            print('*',end=' ')\n",
    "        else:\n",
    "            print(' ',end=' ')\n",
    "    print() "
   ]
  },
  {
   "cell_type": "code",
   "execution_count": 42,
   "metadata": {},
   "outputs": [
    {
     "name": "stdout",
     "output_type": "stream",
     "text": [
      "* * * * * \n",
      "    *     \n",
      "    *     \n",
      "    *     \n",
      "    *     \n",
      "    *     \n",
      "* * *     \n"
     ]
    }
   ],
   "source": [
    "for r in range(7):\n",
    "    for c in range(5):\n",
    "        if((r==0) or (c==2)) or ((r==6) and (c<=2)):\n",
    "            print('*',end=' ')\n",
    "        else:\n",
    "            print(' ',end=' ')\n",
    "    print()"
   ]
  },
  {
   "cell_type": "code",
   "execution_count": 43,
   "metadata": {},
   "outputs": [
    {
     "name": "stdout",
     "output_type": "stream",
     "text": [
      "*       * \n",
      "*     *   \n",
      "*   *     \n",
      "* *       \n",
      "*   *     \n",
      "*     *   \n",
      "*       * \n"
     ]
    }
   ],
   "source": [
    "for r in range(7):\n",
    "    for c in range(5):\n",
    "        if(c==0) or (r-c==2) or (r+c==4):\n",
    "            print('*',end=' ')\n",
    "        else:\n",
    "            print(' ',end=' ')\n",
    "    print()"
   ]
  },
  {
   "cell_type": "code",
   "execution_count": 46,
   "metadata": {},
   "outputs": [
    {
     "name": "stdout",
     "output_type": "stream",
     "text": [
      "*           * \n",
      "*           * \n",
      "*           * \n",
      "*     *     * \n",
      "*   *   *   * \n",
      "* *       * * \n",
      "*           * \n"
     ]
    }
   ],
   "source": [
    "for r in range(7):\n",
    "    for c in range(7):\n",
    "        if c==0 or c==6 or (r==c or r+c==6) and (r>=3):\n",
    "            print('*',end=' ')\n",
    "        else:\n",
    "            print(' ',end=' ')\n",
    "    print()"
   ]
  },
  {
   "cell_type": "code",
   "execution_count": 47,
   "metadata": {},
   "outputs": [
    {
     "name": "stdout",
     "output_type": "stream",
     "text": [
      "*           * \n",
      "* *       * * \n",
      "*   *   *   * \n",
      "*     *     * \n",
      "*           * \n",
      "*           * \n",
      "*           * \n"
     ]
    }
   ],
   "source": [
    "for r in range(7):\n",
    "    for c in range(7):\n",
    "        if c==0 or c==6 or (r==c or r+c==6) and (r<=3):\n",
    "            print('*',end=' ')\n",
    "        else:\n",
    "            print(' ',end=' ')\n",
    "    print()"
   ]
  },
  {
   "cell_type": "code",
   "execution_count": 48,
   "metadata": {},
   "outputs": [
    {
     "name": "stdout",
     "output_type": "stream",
     "text": [
      "*           * \n",
      "* *         * \n",
      "*   *       * \n",
      "*     *     * \n",
      "*       *   * \n",
      "*         * * \n",
      "*           * \n"
     ]
    }
   ],
   "source": [
    "for r in range(7):\n",
    "    for c in range(7):\n",
    "        if c==0 or c==6 or (r==c):\n",
    "            print('*',end=' ')\n",
    "        else:\n",
    "            print(' ',end=' ')\n",
    "    print()"
   ]
  },
  {
   "cell_type": "code",
   "execution_count": 60,
   "metadata": {},
   "outputs": [
    {
     "name": "stdout",
     "output_type": "stream",
     "text": [
      "  * * *   \n",
      "*       * \n",
      "*       * \n",
      "*       * \n",
      "*       * \n",
      "*       * \n",
      "  * * *   \n"
     ]
    }
   ],
   "source": [
    "for r in range(7):\n",
    "    for c in range(5):\n",
    "        if ((c==0 or c==4) and (r!=0 and r!=6)) or ((r==0 or r==6) and(c!=0 and c!=4)):\n",
    "            print('*',end=' ')\n",
    "        else:\n",
    "            print(' ',end=' ')\n",
    "    print()"
   ]
  },
  {
   "cell_type": "code",
   "execution_count": 79,
   "metadata": {},
   "outputs": [
    {
     "name": "stdout",
     "output_type": "stream",
     "text": [
      "* * * * * \n",
      "*       * \n",
      "*       * \n",
      "* * * *   \n",
      "*         \n",
      "*         \n",
      "*         \n"
     ]
    }
   ],
   "source": [
    "for r in range(7):\n",
    "    for c in range(5):\n",
    "        if c==0 or (c==4 and (r==1 or r==2))  or (r==0 or r==3 and c!=4 and c!=0):\n",
    "            print('*',end=' ')\n",
    "        else:\n",
    "            print(' ',end=' ')\n",
    "    print()"
   ]
  },
  {
   "cell_type": "code",
   "execution_count": 82,
   "metadata": {},
   "outputs": [
    {
     "name": "stdout",
     "output_type": "stream",
     "text": [
      "*       * \n",
      "  *   *   \n",
      "    *     \n",
      "  *   *   \n",
      "*       * \n"
     ]
    }
   ],
   "source": [
    "for r in range(5):\n",
    "    for c in range(5):\n",
    "        if(r+c==4 or r==c):\n",
    "            print('*',end=' ')\n",
    "        else:\n",
    "            print(' ',end=' ')\n",
    "    print()\n"
   ]
  },
  {
   "cell_type": "code",
   "execution_count": 89,
   "metadata": {},
   "outputs": [
    {
     "name": "stdout",
     "output_type": "stream",
     "text": [
      "* * * * * * \n",
      "        *   \n",
      "      *     \n",
      "    *       \n",
      "* * * * * * \n",
      "*           \n"
     ]
    }
   ],
   "source": [
    "for r in range(6):\n",
    "    for c in range(6):\n",
    "        if(r==0 or r==4 or c+r==5):\n",
    "            print('*',end=' ')\n",
    "        else:\n",
    "            print(' ',end=' ')\n",
    "    print()"
   ]
  },
  {
   "cell_type": "code",
   "execution_count": 92,
   "metadata": {},
   "outputs": [
    {
     "name": "stdout",
     "output_type": "stream",
     "text": [
      "*           * \n",
      "  *       *   \n",
      "    *   *     \n",
      "      *       \n"
     ]
    }
   ],
   "source": [
    "for r in range(4):\n",
    "    for c in range(7):\n",
    "        if(r==c or r+c==6):\n",
    "            print('*',end=' ')\n",
    "        else:\n",
    "            print(' ',end=' ')\n",
    "    print()"
   ]
  },
  {
   "cell_type": "code",
   "execution_count": 1,
   "metadata": {},
   "outputs": [
    {
     "name": "stdout",
     "output_type": "stream",
     "text": [
      "* * * * * \n",
      "    *     \n",
      "    *     \n",
      "    *     \n",
      "    *     \n",
      "    *     \n",
      "    *     \n"
     ]
    }
   ],
   "source": [
    "for r in range(7):\n",
    "    for c in range(5):\n",
    "        if(r==0 or c==2):\n",
    "            print('*',end=' ')\n",
    "        else:\n",
    "            print(' ',end=' ')\n",
    "    print()"
   ]
  },
  {
   "cell_type": "code",
   "execution_count": 7,
   "metadata": {},
   "outputs": [
    {
     "name": "stdout",
     "output_type": "stream",
     "text": [
      "  * * *   \n",
      "*         \n",
      "*         \n",
      "  * * *   \n",
      "        * \n",
      "        * \n",
      "  * * *   \n"
     ]
    }
   ],
   "source": [
    "for r in range(7):\n",
    "    for c in range(5):\n",
    "        if (r==0 or r==3 or r==6) and (c!=0 and c!=4) or (c==0 and (r>0 and r<3)) or (c==4 and (r>3 and r<6)):\n",
    "            print('*',end=' ')\n",
    "        else:\n",
    "            print(' ',end=' ')\n",
    "    print()"
   ]
  },
  {
   "cell_type": "code",
   "execution_count": 16,
   "metadata": {},
   "outputs": [
    {
     "name": "stdout",
     "output_type": "stream",
     "text": [
      "*       * \n",
      "*       * \n",
      "*       * \n",
      "*       * \n",
      "*       * \n",
      "*       * \n",
      "  * * *   \n"
     ]
    }
   ],
   "source": [
    "for r in range(7):\n",
    "    for c in range(5):\n",
    "        if(c==0  and r!=6 )or (c==4  and r!=6) or (r==6 and c>0 and c<4):\n",
    "            print('*',end=' ')\n",
    "        else:\n",
    "            print(' ',end=' ')\n",
    "    print() "
   ]
  },
  {
   "cell_type": "code",
   "execution_count": 20,
   "metadata": {},
   "outputs": [
    {
     "name": "stdout",
     "output_type": "stream",
     "text": [
      "* * * *   \n",
      "*       * \n",
      "*       * \n",
      "* * * *   \n",
      "*       * \n",
      "*       * \n",
      "*       * \n"
     ]
    }
   ],
   "source": [
    "for r in range(7):\n",
    "    for c in range(5):\n",
    "        if (c==0 or c==4 and r!=0 and r!=3) or (r==0  and c!=4 or r==3 and c!=4 ):\n",
    "            print('*',end=' ')\n",
    "        else:\n",
    "            print(' ',end=' ')\n",
    "    print()"
   ]
  },
  {
   "cell_type": "code",
   "execution_count": 25,
   "metadata": {},
   "outputs": [
    {
     "name": "stdout",
     "output_type": "stream",
     "text": [
      "  * * *   \n",
      "*       * \n",
      "*       * \n",
      "*       * \n",
      "*       * \n",
      "* *     * \n",
      "  * * *   \n",
      "      *   \n"
     ]
    }
   ],
   "source": [
    "for r in range(8):\n",
    "    for c in range(5):\n",
    "        if(c==0 and r!=0 and r!=6 and r!=7) or(c==4 and r!=0 and r!=6 and r!=7) or (r==0 and c>0 and c<4) or (r==6 and c>0 and c<4) or (r==7 and c==3) or r==5 and c==1:\n",
    "            print('*',end=' ')\n",
    "        else:\n",
    "            print(' ',end=' ')\n",
    "    print()"
   ]
  },
  {
   "cell_type": "code",
   "execution_count": 29,
   "metadata": {},
   "outputs": [
    {
     "name": "stdout",
     "output_type": "stream",
     "text": [
      "*       * \n",
      "  *   *   \n",
      "    *     \n",
      "    *     \n",
      "    *     \n"
     ]
    }
   ],
   "source": [
    "for r in range(5):\n",
    "    for c in range(5):\n",
    "        if(r==c and c<=2) or (r+c==4 and r<=2) or (c==2 and r>=2):\n",
    "            print('*',end=' ')\n",
    "        else:\n",
    "            print(' ',end=' ')\n",
    "    print()"
   ]
  },
  {
   "cell_type": "code",
   "execution_count": 1,
   "metadata": {},
   "outputs": [
    {
     "name": "stdout",
     "output_type": "stream",
     "text": [
      "True\n"
     ]
    }
   ],
   "source": [
    "# functions\n",
    "def prime(num):\n",
    "    count = 0 \n",
    "    for i in range(1,num+1):\n",
    "        if(num%i==0):\n",
    "            count+=1\n",
    "    return count==2\n",
    "num = 5\n",
    "print(prime(num))"
   ]
  },
  {
   "cell_type": "code",
   "execution_count": 16,
   "metadata": {},
   "outputs": [
    {
     "name": "stdout",
     "output_type": "stream",
     "text": [
      "PRIME NUMBER\n"
     ]
    }
   ],
   "source": [
    "def prime(num):\n",
    "    if(num<=1):\n",
    "        return False\n",
    "    for i in range(2,num//2+1):\n",
    "        if(num%i==0):\n",
    "            return False\n",
    "    return True\n",
    "num = 19 \n",
    "if(prime(num)):\n",
    "    print('PRIME NUMBER')\n",
    "else:\n",
    "    print('NOT PRIME NUMBER')"
   ]
  },
  {
   "cell_type": "code",
   "execution_count": 14,
   "metadata": {},
   "outputs": [
    {
     "name": "stdout",
     "output_type": "stream",
     "text": [
      "NOT COMPOSITE NUMBER\n"
     ]
    }
   ],
   "source": [
    "def composite(num):\n",
    "    count = 0 \n",
    "    for i in range(1,num+1):\n",
    "        if(num%i==0):\n",
    "            count+=1\n",
    "    return count>2\n",
    "num = 6 \n",
    "if(composite(num)):\n",
    "    print('COMPOSITE NUMBER')\n",
    "else:\n",
    "    print('NOT COMPOSITE NUMBER')"
   ]
  },
  {
   "cell_type": "code",
   "execution_count": 19,
   "metadata": {},
   "outputs": [
    {
     "name": "stdout",
     "output_type": "stream",
     "text": [
      "PERFECT NUMBER\n"
     ]
    }
   ],
   "source": [
    "def perfect(num):\n",
    "    add = 0 \n",
    "    for i in range(1,num):\n",
    "        if(num%i==0):\n",
    "            add+=i\n",
    "    return add\n",
    "num = 6\n",
    "if(perfect(num)==num):\n",
    "    print('PERFECT NUMBER')\n",
    "else:\n",
    "    print('NOT PERFECT NUMBER')    \n",
    "        "
   ]
  },
  {
   "cell_type": "code",
   "execution_count": 26,
   "metadata": {},
   "outputs": [
    {
     "name": "stdout",
     "output_type": "stream",
     "text": [
      "NOT AUTOMORPHIC NUMBER\n"
     ]
    }
   ],
   "source": [
    "def automorphic(sqr):\n",
    "    sqr = num*num\n",
    "    count=len(str(num))\n",
    "    return(sqr%10)**count == num \n",
    "num = 35 \n",
    "if(automorphic(num)):\n",
    "    print('AUTOMORPHIC NUMBER')\n",
    "else:\n",
    "    print('NOT AUTOMORPHIC NUMBER')\n"
   ]
  },
  {
   "cell_type": "code",
   "execution_count": 28,
   "metadata": {},
   "outputs": [
    {
     "name": "stdout",
     "output_type": "stream",
     "text": [
      "True\n"
     ]
    }
   ],
   "source": [
    "def automorphic(num):\n",
    "    sqr = num*num\n",
    "    while(num!=0):\n",
    "        rem1 = num%10\n",
    "        rem2 = sqr%10\n",
    "        num //= 10 \n",
    "        sqr //=10\n",
    "    return rem1==rem2\n",
    "num = 25\n",
    "print(automorphic(num))\n",
    "   "
   ]
  },
  {
   "cell_type": "code",
   "execution_count": 29,
   "metadata": {},
   "outputs": [
    {
     "name": "stdout",
     "output_type": "stream",
     "text": [
      "15\n"
     ]
    }
   ],
   "source": [
    "def adddig(num):\n",
    "    add = 0 \n",
    "    while(num!=0):\n",
    "        add += num%10\n",
    "        num//=10\n",
    "    return add \n",
    "num = 1815\n",
    "print(adddig(num))\n"
   ]
  },
  {
   "cell_type": "code",
   "execution_count": 30,
   "metadata": {},
   "outputs": [
    {
     "name": "stdout",
     "output_type": "stream",
     "text": [
      "NIVEN NUMBER\n"
     ]
    }
   ],
   "source": [
    "def niven(num):\n",
    "    add = 0 \n",
    "    while(num!=0):\n",
    "        add+=num%10\n",
    "        num//=10\n",
    "    return add \n",
    "num = 1815\n",
    "if(num%niven(num)==0):\n",
    "    print('NIVEN NUMBER')\n",
    "else:\n",
    "    print('NOT NIVEN NUMBER')"
   ]
  },
  {
   "cell_type": "code",
   "execution_count": 32,
   "metadata": {},
   "outputs": [
    {
     "name": "stdout",
     "output_type": "stream",
     "text": [
      "ARMSTRONG NUMBER\n"
     ]
    }
   ],
   "source": [
    "def armstrong(num):\n",
    "    add = 0 \n",
    "    count = len(str(num))\n",
    "    while(num!=0):\n",
    "        add += (num%10)**count\n",
    "        num //= 10\n",
    "    return add \n",
    "num = 153\n",
    "if(armstrong(num)==num):    \n",
    "    print('ARMSTRONG NUMBER')\n",
    "else:\n",
    "    print('NOT ARMSTRONG NUMBER')\n"
   ]
  },
  {
   "cell_type": "code",
   "execution_count": 33,
   "metadata": {},
   "outputs": [
    {
     "name": "stdout",
     "output_type": "stream",
     "text": [
      "DISARIUM NUMBER\n"
     ]
    }
   ],
   "source": [
    "def disarium(num):\n",
    "    add = 0 \n",
    "    count = len(str(num))\n",
    "    while(num!=0):\n",
    "        add += (num%10)**count \n",
    "        num //=10\n",
    "        count -=1\n",
    "    return add \n",
    "num = 135\n",
    "if(disarium(num)==num):\n",
    "    print('DISARIUM NUMBER')\n",
    "else:\n",
    "    print('NOT DISARIUM NUMBER')"
   ]
  },
  {
   "cell_type": "code",
   "execution_count": 34,
   "metadata": {},
   "outputs": [
    {
     "name": "stdout",
     "output_type": "stream",
     "text": [
      "HAPPY NUMBER\n"
     ]
    }
   ],
   "source": [
    "def sqr(num):\n",
    "    add = 0 \n",
    "    while(num!=0):\n",
    "        add += (num%10)**2\n",
    "        num //= 10\n",
    "        return add \n",
    "def happy(num):\n",
    "    while(num>9):\n",
    "        num = sqr(num)\n",
    "    return num ==1\n",
    "num = 19\n",
    "if(happy(num)==1):\n",
    "    print('HAPPY NUMBER')\n",
    "else:\n",
    "    print('NOT HAPPY NUMBER')"
   ]
  },
  {
   "cell_type": "code",
   "execution_count": 39,
   "metadata": {},
   "outputs": [
    {
     "name": "stdout",
     "output_type": "stream",
     "text": [
      "SPY NUMBER\n"
     ]
    }
   ],
   "source": [
    "def spy(num):\n",
    "    add = 0 \n",
    "    mul = 1\n",
    "    while(num!=0):\n",
    "        add += num%10\n",
    "        mul *= num%10\n",
    "        num //= 10\n",
    "    return add == mul \n",
    "num = 123\n",
    "if(spy(num)):\n",
    "    print('SPY NUMBER')\n",
    "else:\n",
    "    print('NOT SPY NUMBER')"
   ]
  },
  {
   "cell_type": "code",
   "execution_count": 48,
   "metadata": {},
   "outputs": [
    {
     "name": "stdout",
     "output_type": "stream",
     "text": [
      "NEON NUMBER\n"
     ]
    }
   ],
   "source": [
    "def neon(num):\n",
    "    sqr = num*num\n",
    "    add = 0\n",
    "    while(sqr!=0):\n",
    "        rem = sqr%10\n",
    "        add = add+rem\n",
    "        sqr//=10\n",
    "    return add\n",
    "num = 9\n",
    "if(num == neon(num)):\n",
    "    print('NEON NUMBER')\n",
    "else:\n",
    "    print('NOT NEON NUMBER')"
   ]
  },
  {
   "cell_type": "code",
   "execution_count": 50,
   "metadata": {},
   "outputs": [
    {
     "name": "stdout",
     "output_type": "stream",
     "text": [
      "True\n"
     ]
    }
   ],
   "source": [
    "def sunny(num):\n",
    "    t = num+1\n",
    "    res = t**(1/2)\n",
    "    return res**2==t\n",
    "num = 8 \n",
    "print(sunny(num))"
   ]
  },
  {
   "cell_type": "code",
   "execution_count": 51,
   "metadata": {},
   "outputs": [
    {
     "name": "stdout",
     "output_type": "stream",
     "text": [
      "SUNNY NUMBER\n"
     ]
    }
   ],
   "source": [
    "def sunny(num):\n",
    "    i = 1\n",
    "    while(i**2<=num+1):\n",
    "        if(i**2==num+1):\n",
    "            return True\n",
    "        i+=1\n",
    "    return False\n",
    "num = 8\n",
    "if(sunny(num)):\n",
    "    print('SUNNY NUMBER')\n",
    "else:\n",
    "    print('NOT SUNNY NUMBER')\n",
    "            "
   ]
  },
  {
   "cell_type": "code",
   "execution_count": 52,
   "metadata": {},
   "outputs": [
    {
     "name": "stdout",
     "output_type": "stream",
     "text": [
      "120\n"
     ]
    }
   ],
   "source": [
    "def fact(num):\n",
    "    fact = 1\n",
    "    for i in range(1,num+1):\n",
    "        fact*=i\n",
    "    return fact\n",
    "num = 5\n",
    "print(fact(num))"
   ]
  },
  {
   "cell_type": "code",
   "execution_count": 53,
   "metadata": {},
   "outputs": [
    {
     "name": "stdout",
     "output_type": "stream",
     "text": [
      "STRONG NUMBER\n"
     ]
    }
   ],
   "source": [
    "def fact(num):\n",
    "    fact = 1\n",
    "    for i in range(1,num+1):\n",
    "        fact*=i\n",
    "    return fact\n",
    "def Add(num):\n",
    "    add = 0 \n",
    "    while(num!=0):\n",
    "        add += fact(num%10)\n",
    "        num //=10\n",
    "    return add \n",
    "num = 145\n",
    "if(num == Add(num)):\n",
    "    print('STRONG NUMBER')\n",
    "else:\n",
    "    print('NOT STRONG NUMBER')\n"
   ]
  },
  {
   "cell_type": "code",
   "execution_count": 66,
   "metadata": {},
   "outputs": [
    {
     "name": "stdout",
     "output_type": "stream",
     "text": [
      "FASCINATING NUMBER\n"
     ]
    }
   ],
   "source": [
    "def fascinating(num):\n",
    "    num1 = num*2\n",
    "    num2 = num*3\n",
    "    S = str(num)+str(num1)+str(num2)\n",
    "    for i in range(1,10):\n",
    "        if str(i) in  S:\n",
    "            return True\n",
    "num = 324\n",
    "if(fascinating(num)):\n",
    "    print('FASCINATING NUMBER')\n",
    "else:\n",
    "    print('NOT FASCINATING NUMBER')\n"
   ]
  },
  {
   "cell_type": "code",
   "execution_count": 82,
   "metadata": {},
   "outputs": [
    {
     "name": "stdout",
     "output_type": "stream",
     "text": [
      "TRIMORPHIC NUMBER\n"
     ]
    }
   ],
   "source": [
    "def trimorphic(num):\n",
    "    cube = num**3\n",
    "    count = len(str(num))\n",
    "    return num == cube%10**count\n",
    "num = 51\n",
    "if(trimorphic(num)):\n",
    "    print('TRIMORPHIC NUMBER')\n",
    "else:\n",
    "    print('NOT TRIMORPHIC NUMBER')\n"
   ]
  },
  {
   "cell_type": "code",
   "execution_count": 87,
   "metadata": {},
   "outputs": [
    {
     "name": "stdout",
     "output_type": "stream",
     "text": [
      "TRIMORPHIC NUMBER\n"
     ]
    }
   ],
   "source": [
    "def trimorphic(num):\n",
    "    cube = num**3\n",
    "    while(num!=0):\n",
    "        rem1 = num%10\n",
    "        rem2 = cube%10\n",
    "        num //=10\n",
    "        cube//=10\n",
    "    return rem1==rem2\n",
    "num = 24\n",
    "if(trimorphic(num)):\n",
    "    print('TRIMORPHIC NUMBER')\n",
    "else:\n",
    "    print('NOT TRIMOORPHIC NUMBER')"
   ]
  },
  {
   "cell_type": "code",
   "execution_count": 91,
   "metadata": {},
   "outputs": [
    {
     "name": "stdout",
     "output_type": "stream",
     "text": [
      "True\n"
     ]
    }
   ],
   "source": [
    "def pronic(num):\n",
    "    i = 1\n",
    "    while(i*(i+1)<=num):\n",
    "        if(i*(i+1)==num):\n",
    "            return True\n",
    "        i+=1\n",
    "    return False\n",
    "num = 12 \n",
    "print(pronic(num))\n",
    "    "
   ]
  },
  {
   "cell_type": "code",
   "execution_count": 95,
   "metadata": {},
   "outputs": [
    {
     "name": "stdout",
     "output_type": "stream",
     "text": [
      "10110\n"
     ]
    }
   ],
   "source": [
    "def dec(num):\n",
    "    bin = 0 \n",
    "    temp = 1\n",
    "    while(num!=0):\n",
    "        bin += num%2*temp\n",
    "        num //=2\n",
    "        temp*=10\n",
    "    return bin \n",
    "num = 22\n",
    "print(dec(num))"
   ]
  },
  {
   "cell_type": "code",
   "execution_count": 96,
   "metadata": {},
   "outputs": [
    {
     "name": "stdout",
     "output_type": "stream",
     "text": [
      "22\n"
     ]
    }
   ],
   "source": [
    "def bin(num):\n",
    "    dec = 0 \n",
    "    temp = 1\n",
    "    while(num!=0):\n",
    "        dec += num%10*temp\n",
    "        num //=10\n",
    "        temp*=2\n",
    "    return dec\n",
    "num = 10110\n",
    "print(bin(num))"
   ]
  },
  {
   "cell_type": "code",
   "execution_count": 104,
   "metadata": {},
   "outputs": [
    {
     "name": "stdout",
     "output_type": "stream",
     "text": [
      "True\n"
     ]
    }
   ],
   "source": [
    "def evil(num):\n",
    "    add = 0 \n",
    "    while(num!=0):\n",
    "        if(num%2==1):\n",
    "            add+=1\n",
    "        num//=2\n",
    "    return add \n",
    "num = 23\n",
    "print(evil(num)%2==0)"
   ]
  },
  {
   "cell_type": "code",
   "execution_count": 111,
   "metadata": {},
   "outputs": [
    {
     "name": "stdout",
     "output_type": "stream",
     "text": [
      "123\n"
     ]
    }
   ],
   "source": [
    "def rev(num):\n",
    "    res = 0 \n",
    "    while(num!=0):\n",
    "        res = (res*10)+ num%10\n",
    "        num //=10\n",
    "    return res\n",
    "num = 321\n",
    "print(rev(num))"
   ]
  },
  {
   "cell_type": "code",
   "execution_count": 8,
   "metadata": {},
   "outputs": [
    {
     "name": "stdout",
     "output_type": "stream",
     "text": [
      "120\n"
     ]
    }
   ],
   "source": [
    "def factorial(num,i):\n",
    "    if(i==num):\n",
    "        return num \n",
    "    return (i* factorial(num,i+1))\n",
    "num = 5 \n",
    "i = 1\n",
    "print(factorial(num,i))"
   ]
  },
  {
   "cell_type": "code",
   "execution_count": 9,
   "metadata": {},
   "outputs": [
    {
     "name": "stdout",
     "output_type": "stream",
     "text": [
      "120\n"
     ]
    }
   ],
   "source": [
    "def factorial(num):\n",
    "    if(num==0):\n",
    "        return 1\n",
    "    return num*factorial(num-1)\n",
    "num = 5\n",
    "print(factorial(num))"
   ]
  },
  {
   "cell_type": "code",
   "execution_count": 10,
   "metadata": {},
   "outputs": [
    {
     "name": "stdout",
     "output_type": "stream",
     "text": [
      "15\n"
     ]
    }
   ],
   "source": [
    "def AddDig(num):\n",
    "    if(num==0):\n",
    "        return 0 \n",
    "    return num%10+AddDig(num//10)\n",
    "num = 1815\n",
    "print(AddDig(num))"
   ]
  },
  {
   "cell_type": "code",
   "execution_count": 13,
   "metadata": {},
   "outputs": [
    {
     "name": "stdout",
     "output_type": "stream",
     "text": [
      "ARMSTRONG NUMBER\n"
     ]
    }
   ],
   "source": [
    "def armstrong(num,i):\n",
    "    if(num==0):\n",
    "        return 0 \n",
    "    return (num%10)**i+armstrong(num//10,i)\n",
    "num = 153\n",
    "i=len(str(num))\n",
    "if(num==armstrong(num,i)):\n",
    "    print('ARMSTRONG NUMBER')\n",
    "else:\n",
    "    print('NOT ARMSTRONG NUMBER')"
   ]
  },
  {
   "cell_type": "code",
   "execution_count": 14,
   "metadata": {},
   "outputs": [
    {
     "name": "stdout",
     "output_type": "stream",
     "text": [
      "DISARIUM NUMBER\n"
     ]
    }
   ],
   "source": [
    "def disarium(num,i):\n",
    "    if(num==0):\n",
    "        return 0 \n",
    "    return (num%10)**i+disarium(num//10,i-1)\n",
    "num = 135\n",
    "i = len(str(num))\n",
    "if(num == disarium(num,i)):\n",
    "    print('DISARIUM NUMBER')\n",
    "else:\n",
    "    print('NOT DISARIUM NUMBER')"
   ]
  },
  {
   "cell_type": "code",
   "execution_count": 17,
   "metadata": {},
   "outputs": [
    {
     "name": "stdout",
     "output_type": "stream",
     "text": [
      "PRIME NUMBER\n"
     ]
    }
   ],
   "source": [
    "def prime(num,i=2):\n",
    "    if(i<=2):\n",
    "        return True\n",
    "    if(num%i==0):\n",
    "        return False\n",
    "    return prime(num,i+1)\n",
    "num = 7 \n",
    "i=2\n",
    "if(prime(num,i)):\n",
    "    print('PRIME NUMBER')\n",
    "else:\n",
    "    print('NOT PRIME NUMBER')"
   ]
  },
  {
   "cell_type": "code",
   "execution_count": 18,
   "metadata": {},
   "outputs": [
    {
     "name": "stdout",
     "output_type": "stream",
     "text": [
      "NEON NUMBER\n"
     ]
    }
   ],
   "source": [
    "def neon(sqr):\n",
    "    if(sqr==0):\n",
    "        return 0 \n",
    "    return sqr%10+neon(sqr//10)\n",
    "num = 9 \n",
    "sqr = num*num\n",
    "if(num==neon(sqr)):\n",
    "    print('NEON NUMBER')\n",
    "else:\n",
    "    print('NOT NEON NUMBER')\n"
   ]
  },
  {
   "cell_type": "code",
   "execution_count": 28,
   "metadata": {},
   "outputs": [
    {
     "name": "stdout",
     "output_type": "stream",
     "text": [
      "1000\n"
     ]
    }
   ],
   "source": [
    "def D2B(num,i):\n",
    "    if(num==0):\n",
    "        return 0 \n",
    "    return (num%2)*i + D2B(num//2,i*10)\n",
    "num = 8\n",
    "i = 1\n",
    "print(D2B(num,i))"
   ]
  },
  {
   "cell_type": "code",
   "execution_count": 29,
   "metadata": {},
   "outputs": [
    {
     "name": "stdout",
     "output_type": "stream",
     "text": [
      "8\n"
     ]
    }
   ],
   "source": [
    "def B2D(num,i):\n",
    "    if(num==0):\n",
    "        return 0 \n",
    "    return num%10*i+B2D(num//10,i*2)\n",
    "num = 1000\n",
    "i =1\n",
    "print(B2D(num,i)) "
   ]
  },
  {
   "cell_type": "code",
   "execution_count": 31,
   "metadata": {},
   "outputs": [
    {
     "name": "stdout",
     "output_type": "stream",
     "text": [
      "5123\n"
     ]
    }
   ],
   "source": [
    "def rev(num,i):\n",
    "    if(num==0):\n",
    "        return 0 \n",
    "    return num%10*i+rev(num//10,i//10)\n",
    "num = 3215\n",
    "i = 1000\n",
    "print(rev(num,i))"
   ]
  },
  {
   "cell_type": "code",
   "execution_count": 34,
   "metadata": {},
   "outputs": [
    {
     "name": "stdout",
     "output_type": "stream",
     "text": [
      "NOT PRONIC NUMBER\n"
     ]
    }
   ],
   "source": [
    "def pronic(num,i):\n",
    "    if(i*(i+1)>num):\n",
    "        return False\n",
    "    if(i*(i+1)==num):\n",
    "        return True\n",
    "    return pronic (num,i+1)\n",
    "num = 15 \n",
    "i = 1\n",
    "if(pronic(num,i)):\n",
    "    print('PRONIC NUMBER')\n",
    "else:\n",
    "    print('NOT PRONIC NUMBER')\n"
   ]
  },
  {
   "cell_type": "code",
   "execution_count": 6,
   "metadata": {},
   "outputs": [
    {
     "name": "stdout",
     "output_type": "stream",
     "text": [
      "THIS IS EXAM QUESTION \n"
     ]
    }
   ],
   "source": [
    "s  = '2IS EXA3M QUESTIO4N TH1IS'\n",
    "L = s.split()\n",
    "D = {}\n",
    "for i in L:\n",
    "    num = ''\n",
    "    ss = ''\n",
    "    for i in i:\n",
    "        if '0'<=i<='9':\n",
    "            num+=i\n",
    "        else:\n",
    "            ss+=i\n",
    "    D[int(num)]=ss\n",
    "    keys = list(D.keys())\n",
    "    keys.sort()\n",
    "    res = ''\n",
    "    for i in  keys:\n",
    "        res += D[i]+' '\n",
    "print(res)"
   ]
  },
  {
   "cell_type": "code",
   "execution_count": 6,
   "metadata": {},
   "outputs": [
    {
     "name": "stdout",
     "output_type": "stream",
     "text": [
      "4\n"
     ]
    }
   ],
   "source": [
    "# print special characters in given string\n",
    "s = 'abc@123#57$'\n",
    "num = ''\n",
    "chr  = ''\n",
    "spc = 0\n",
    "for i in s:\n",
    "    if i != 'a'<=i<='z':\n",
    "        chr +=i\n",
    "    elif i!= '0'<=i<='9':\n",
    "        num += i\n",
    "    else:\n",
    "        spc +=1\n",
    "print(spc)"
   ]
  },
  {
   "cell_type": "code",
   "execution_count": 2,
   "metadata": {},
   "outputs": [
    {
     "name": "stdout",
     "output_type": "stream",
     "text": [
      "5\n"
     ]
    }
   ],
   "source": [
    "# count numbers in agiven string\n",
    "\n",
    "s = 'abc@123#57$'\n",
    "count = 0\n",
    "for i in s:\n",
    "    if '0'<=i<='9':\n",
    "        count+=1\n",
    "print(count)"
   ]
  },
  {
   "cell_type": "code",
   "execution_count": 3,
   "metadata": {},
   "outputs": [
    {
     "name": "stdout",
     "output_type": "stream",
     "text": [
      "12357\n"
     ]
    }
   ],
   "source": [
    "# print numbers in a given string\n",
    "s = 'abc@123#57$'\n",
    "res = ''\n",
    "for i in s:\n",
    "    if '0'<=i<='9':\n",
    "        res += i\n",
    "print(res)"
   ]
  },
  {
   "cell_type": "code",
   "execution_count": 7,
   "metadata": {},
   "outputs": [
    {
     "name": "stdout",
     "output_type": "stream",
     "text": [
      "0\n"
     ]
    }
   ],
   "source": [
    "s = 'abc@123#57$'\n",
    "count = 0\n",
    "for i in s:\n",
    "    if i not in '0'<=i<='9'and 'a'<=i<='z':\n",
    "        count+=1\n",
    "        \n",
    "print(count)"
   ]
  },
  {
   "cell_type": "code",
   "execution_count": 8,
   "metadata": {},
   "outputs": [
    {
     "name": "stdout",
     "output_type": "stream",
     "text": [
      "1\n"
     ]
    }
   ],
   "source": [
    "L = [2,5,7,10,17,18]\n",
    "Even = 0 \n",
    "Odd = 0 \n",
    "for i in L:\n",
    "    if i%2 ==0:\n",
    "        Even += i\n",
    "    else:\n",
    "        Odd -=i\n",
    "print(Even+Odd)"
   ]
  },
  {
   "cell_type": "code",
   "execution_count": null,
   "metadata": {},
   "outputs": [],
   "source": []
  }
 ],
 "metadata": {
  "kernelspec": {
   "display_name": "Python 3",
   "language": "python",
   "name": "python3"
  },
  "language_info": {
   "codemirror_mode": {
    "name": "ipython",
    "version": 3
   },
   "file_extension": ".py",
   "mimetype": "text/x-python",
   "name": "python",
   "nbconvert_exporter": "python",
   "pygments_lexer": "ipython3",
   "version": "3.11.2"
  },
  "orig_nbformat": 4
 },
 "nbformat": 4,
 "nbformat_minor": 2
}
