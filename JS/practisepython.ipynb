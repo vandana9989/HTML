{
 "cells": [
  {
   "cell_type": "code",
   "execution_count": 2,
   "metadata": {},
   "outputs": [
    {
     "name": "stdout",
     "output_type": "stream",
     "text": [
      "PRIME NUMBER\n"
     ]
    }
   ],
   "source": [
    "num = 11\n",
    "count = 0 \n",
    "for i in range(1,num+1):\n",
    "    if num%i == 0:\n",
    "        count += 1\n",
    "if count ==2:\n",
    "    print('PRIME NUMBER')\n",
    "else:\n",
    "    print('NOT PRIME NUMBER')"
   ]
  },
  {
   "cell_type": "code",
   "execution_count": 6,
   "metadata": {},
   "outputs": [
    {
     "name": "stdout",
     "output_type": "stream",
     "text": [
      "PRIME NUMBER\n"
     ]
    }
   ],
   "source": [
    "num = 11\n",
    "if num>1:\n",
    "    for i in range(2,num//2+1):\n",
    "        if num %i ==0:\n",
    "            print('NOT PRIME NUMBER')\n",
    "            break\n",
    "    else:\n",
    "        print('PRIME NUMBER')\n",
    "else:\n",
    "    print('NOT PRIME NUMBER')\n",
    " \n"
   ]
  },
  {
   "cell_type": "code",
   "execution_count": 7,
   "metadata": {},
   "outputs": [
    {
     "name": "stdout",
     "output_type": "stream",
     "text": [
      "COMPOSITE NUMBER\n"
     ]
    }
   ],
   "source": [
    "num = 12 \n",
    "count = 0 \n",
    "for i in range(1,num+1):\n",
    "    if num%i == 0:\n",
    "        count += 1\n",
    "if count>2:\n",
    "    print('COMPOSITE NUMBER')\n",
    "else:\n",
    "    print('NOT COMPOSITE NUMBER')"
   ]
  },
  {
   "cell_type": "code",
   "execution_count": 9,
   "metadata": {},
   "outputs": [
    {
     "name": "stdout",
     "output_type": "stream",
     "text": [
      "PERFECT NUMBER\n"
     ]
    }
   ],
   "source": [
    "num = 6 \n",
    "add = 0\n",
    "for i in range(1,num//2+1):\n",
    "    if num%i == 0:\n",
    "        add +=i\n",
    "if num == add :\n",
    "    print('PERFECT NUMBER')\n",
    "else:\n",
    "    print('NOT PERFECT NUMBER')"
   ]
  },
  {
   "cell_type": "code",
   "execution_count": null,
   "metadata": {},
   "outputs": [],
   "source": []
  }
 ],
 "metadata": {
  "kernelspec": {
   "display_name": "Python 3",
   "language": "python",
   "name": "python3"
  },
  "language_info": {
   "codemirror_mode": {
    "name": "ipython",
    "version": 3
   },
   "file_extension": ".py",
   "mimetype": "text/x-python",
   "name": "python",
   "nbconvert_exporter": "python",
   "pygments_lexer": "ipython3",
   "version": "3.11.2"
  },
  "orig_nbformat": 4
 },
 "nbformat": 4,
 "nbformat_minor": 2
}
